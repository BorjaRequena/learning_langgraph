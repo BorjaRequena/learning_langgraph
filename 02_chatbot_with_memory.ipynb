{
 "cells": [
  {
   "cell_type": "markdown",
   "metadata": {},
   "source": [
    "# Controlling the chatbot memory\n",
    "\n",
    "We follow the [langgraph tutorial](https://langchain-ai.github.io/langgraph/tutorials/introduction/) to learn the basics about memory by building a simple chatbot.\n",
    "\n",
    "So far, we have been prototyping chatbots that do not have any memory of previous messages in context.\n",
    "Here, we will explore how to keep a memory in two ways, and how to use it to rewind and branch off from different points in the conversation.\n",
    "\n",
    "# Build a basic chatbot\n",
    "\n",
    "By now, we know how to build a simple chatbot.\n",
    "We will keep it as simple as possible (without tools) to be able to focus on the memory part."
   ]
  },
  {
   "cell_type": "code",
   "execution_count": null,
   "metadata": {},
   "outputs": [],
   "source": [
    "from typing import Annotated\n",
    "\n",
    "from dotenv import load_dotenv\n",
    "from IPython.display import Image, display\n",
    "from langchain.chat_models import init_chat_model\n",
    "from langgraph.graph import END, START, StateGraph\n",
    "from langgraph.graph.message import add_messages\n",
    "from typing_extensions import TypedDict\n",
    "\n",
    "load_dotenv()\n",
    "llm = init_chat_model(model=\"anthropic:claude-3-5-sonnet-latest\")"
   ]
  },
  {
   "cell_type": "markdown",
   "metadata": {},
   "source": [
    "The graph will take a user input, pass it to the LLM, and directly return the response."
   ]
  },
  {
   "cell_type": "code",
   "execution_count": null,
   "metadata": {},
   "outputs": [
    {
     "data": {
      "image/png": "[encoded data removed]",
      "text/plain": [
       "<IPython.core.display.Image object>"
      ]
     },
     "metadata": {},
     "output_type": "display_data"
    }
   ],
   "source": [
    "class State(TypedDict):\n",
    "    # The state contains the message history: a list that we change with the add_messages function\n",
    "    # New messages are appended to the list, rather than replacing the previous ones.\n",
    "    messages: Annotated[list, add_messages]\n",
    "\n",
    "\n",
    "def chatbot(state: State) -> State:\n",
    "    return {\"messages\": [llm.invoke(state[\"messages\"])]}\n",
    "\n",
    "\n",
    "graph_builder = StateGraph(State)\n",
    "graph_builder.add_node(\"chatbot\", chatbot)\n",
    "graph_builder.add_edge(START, \"chatbot\")\n",
    "graph_builder.add_edge(\"chatbot\", END)\n",
    "\n",
    "graph = graph_builder.compile()\n",
    "\n",
    "display(Image(graph.get_graph().draw_mermaid_png()))"
   ]
  },
  {
   "cell_type": "markdown",
   "metadata": {},
   "source": [
    "# Manually handle the state\n",
    "\n",
    "The state contains the message history.\n",
    "The simplest way to implement a memory for our chatbot is by manually handling the state between interactions in our chat loop."
   ]
  },
  {
   "cell_type": "code",
   "execution_count": null,
   "metadata": {},
   "outputs": [
    {
     "name": "stdout",
     "output_type": "stream",
     "text": [
      "User: Hi, my name's Borja. Nice to meet you!\n",
      "Assistant: Hi Borja! Nice to meet you too! I'm Claude, an AI assistant created by Anthropic. How can I help you today?\n",
      "\n",
      "\n",
      "User: Could you write a word starting with every letter in my name?\n",
      "Assistant: Here are words starting with each letter in \"BORJA\":\n",
      "\n",
      "B - Beautiful\n",
      "O - Organic\n",
      "R - Radiant\n",
      "J - Jovial\n",
      "A - Adventurous\n",
      "\n",
      "\n",
      "User: Thanks, that was great!\n",
      "Assistant: You're welcome, Borja! Glad I could help! Let me know if you'd like to try anything else 😊\n",
      "\n",
      "\n",
      "Goodbye!\n"
     ]
    }
   ],
   "source": [
    "state = {\"messages\": []}\n",
    "\n",
    "while True:\n",
    "    user_input = input(\"User: \")\n",
    "    if user_input.lower() in [\"quit\", \"exit\", \"q\"]:\n",
    "        print(\"Goodbye!\")\n",
    "        break\n",
    "\n",
    "    state[\"messages\"] = state.get(\"messages\", []) + [{\"role\": \"user\", \"content\": user_input}]\n",
    "    state = graph.invoke(state)\n",
    "\n",
    "    print(\"User:\", user_input)\n",
    "    if state.get(\"messages\") and len(state[\"messages\"]) > 0:\n",
    "        print(\"Assistant:\", state[\"messages\"][-1].content)  # Print the last message\n",
    "        print(\"\\n\")"
   ]
  },
  {
   "cell_type": "markdown",
   "metadata": {},
   "source": [
    "In every pass of the loop, we add the user input to the current state, and then get the new state by invoking the graph.\n",
    "This allows the LLM to keep the previous interactions in context and have a coherent conversation.\n",
    "In this case, we first give the chatbot a name, and then ask it to perform a task with the name without repeating it.\n",
    "Without a memory, the task would be impossible to do!"
   ]
  },
  {
   "cell_type": "markdown",
   "metadata": {},
   "source": [
    "# Checkpointing\n",
    "\n",
    "LangGraph offers functionality to checkpoint the state at every step in the conversation.\n",
    "To do so, we need to provide a `checkpointer` when compiling the graph, as well as an ID for the thread when calling it.\n",
    "\n",
    "Checkpointing this way is much more powerful than simply keeping a chat memory.\n",
    "It will allow us to move freely along the conversation, restart it from any given point, branch off separate threads, etc."
   ]
  },
  {
   "cell_type": "code",
   "execution_count": null,
   "metadata": {},
   "outputs": [],
   "source": [
    "from langgraph.checkpoint.memory import MemorySaver  # noqa: E402\n",
    "\n",
    "memory = MemorySaver()\n",
    "# This memory saver keeps the checkpointing in memory. In production, we'd use\n",
    "# a checkpointer that connects to a database.\n",
    "\n",
    "graph = graph_builder.compile(checkpointer=memory)  # Compile the graph with a checkpointer"
   ]
  },
  {
   "cell_type": "markdown",
   "metadata": {},
   "source": [
    "Now to use this graph, we need to provide it with a configuration that contains the thread ID.\n",
    "**The thread ID should be a string!!!**\n",
    "Apparently, it is converted into string internally and we may get unexpected behaviours with mismatching namespaces."
   ]
  },
  {
   "cell_type": "code",
   "execution_count": null,
   "metadata": {},
   "outputs": [],
   "source": [
    "config = {\"configurable\": {\"thread_id\": \"0\"}}"
   ]
  },
  {
   "cell_type": "markdown",
   "metadata": {},
   "source": [
    "Let's check how it works!"
   ]
  },
  {
   "cell_type": "code",
   "execution_count": null,
   "metadata": {},
   "outputs": [],
   "source": [
    "def stream_message(content, configuration):\n",
    "    \"Stream a message and print it.\"\n",
    "    events = graph.stream(\n",
    "        {\"messages\": [{\"role\": \"user\", \"content\": content}]}, configuration, stream_mode=\"values\"\n",
    "    )\n",
    "    for event in events:\n",
    "        event[\"messages\"][-1].pretty_print()"
   ]
  },
  {
   "cell_type": "code",
   "execution_count": null,
   "metadata": {},
   "outputs": [
    {
     "name": "stdout",
     "output_type": "stream",
     "text": [
      "================================\u001b[1m Human Message \u001b[0m=================================\n",
      "\n",
      "Hi, my name's Borja. Nice to meet you!\n",
      "==================================\u001b[1m Ai Message \u001b[0m==================================\n",
      "\n",
      "Hi Borja! Nice to meet you too! I'm an AI assistant. How can I help you today?\n",
      "================================\u001b[1m Human Message \u001b[0m=================================\n",
      "\n",
      "Could you write a word starting with every letter in my name?\n",
      "==================================\u001b[1m Ai Message \u001b[0m==================================\n",
      "\n",
      "Here are words starting with each letter in \"BORJA\":\n",
      "\n",
      "B - Beautiful\n",
      "O - Ocean\n",
      "R - Rainbow\n",
      "J - Journey\n",
      "A - Adventure\n",
      "================================\u001b[1m Human Message \u001b[0m=================================\n",
      "\n",
      "Thanks, that was great!\n",
      "==================================\u001b[1m Ai Message \u001b[0m==================================\n",
      "\n",
      "You're welcome, Borja! Glad I could help! Let me know if you need anything else 😊\n",
      "Goodbye!\n"
     ]
    }
   ],
   "source": [
    "while True:\n",
    "    user_input = input(\"User: \")\n",
    "    # Terminate the conversation with quit, exit or q\n",
    "    if user_input.lower() in [\"quit\", \"exit\", \"q\"]:\n",
    "        print(\"Goodbye!\")\n",
    "        break\n",
    "\n",
    "    stream_message(user_input, config)"
   ]
  },
  {
   "cell_type": "markdown",
   "metadata": {},
   "source": [
    "Great! We see the information about the name is kept across interactions.\n",
    "\n",
    "\n",
    "## Switching threads\n",
    "\n",
    "Let's try now creating a new thread.\n",
    "New threads will be fresh conversations, and the previously checkpointed ones will be preserved.\n",
    "Let's see the effect by asking the chatbot about the name we gave it. "
   ]
  },
  {
   "cell_type": "code",
   "execution_count": null,
   "metadata": {},
   "outputs": [],
   "source": [
    "question = \"What is my name?\""
   ]
  },
  {
   "cell_type": "markdown",
   "metadata": {},
   "source": [
    "In the new thread, the chatbot has no context."
   ]
  },
  {
   "cell_type": "code",
   "execution_count": null,
   "metadata": {},
   "outputs": [
    {
     "name": "stdout",
     "output_type": "stream",
     "text": [
      "================================\u001b[1m Human Message \u001b[0m=================================\n",
      "\n",
      "What is my name?\n",
      "==================================\u001b[1m Ai Message \u001b[0m==================================\n",
      "\n",
      "I don't know your name. You haven't shared it with me. Would you like to tell me your name?\n"
     ]
    }
   ],
   "source": [
    "other_config = {\"configurable\": {\"thread_id\": \"1\"}}  # Other thread\n",
    "\n",
    "stream_message(question, other_config)"
   ]
  },
  {
   "cell_type": "markdown",
   "metadata": {},
   "source": [
    "In the original thread, the question is answered without a problem."
   ]
  },
  {
   "cell_type": "code",
   "execution_count": null,
   "metadata": {},
   "outputs": [
    {
     "name": "stdout",
     "output_type": "stream",
     "text": [
      "================================\u001b[1m Human Message \u001b[0m=================================\n",
      "\n",
      "What is my name?\n",
      "==================================\u001b[1m Ai Message \u001b[0m==================================\n",
      "\n",
      "Your name is Borja.\n"
     ]
    }
   ],
   "source": [
    "stream_message(question, config)  # Back to the same thread"
   ]
  },
  {
   "cell_type": "markdown",
   "metadata": {},
   "source": [
    "## Checkpoints\n",
    "\n",
    "What exactly are checkpoints?\n",
    "We can inspect the graph's state for a given config (specific thread).\n",
    "Let's look at the main thread's state."
   ]
  },
  {
   "cell_type": "code",
   "execution_count": null,
   "metadata": {},
   "outputs": [
    {
     "data": {
      "text/plain": [
       "StateSnapshot(values={'messages': [HumanMessage(content=\"Hi, my name's Borja. Nice to meet you!\", additional_kwargs={}, response_metadata={}, id='bd3b692c-0908-4de9-819f-65d9f14460e1'), AIMessage(content=\"Hi Borja! Nice to meet you too! I'm an AI assistant. How can I help you today?\", additional_kwargs={}, response_metadata={'id': 'msg_017AbgQfaVPG4DUzc63eZ5hN', 'model': 'claude-3-5-sonnet-20241022', 'stop_reason': 'end_turn', 'stop_sequence': None, 'usage': {'cache_creation_input_tokens': 0, 'cache_read_input_tokens': 0, 'input_tokens': 21, 'output_tokens': 27, 'server_tool_use': None}, 'model_name': 'claude-3-5-sonnet-20241022'}, id='run--e6f74635-81ca-493b-a3ef-3721ea117206-0', usage_metadata={'input_tokens': 21, 'output_tokens': 27, 'total_tokens': 48, 'input_token_details': {'cache_creation': 0, 'cache_read': 0}}), HumanMessage(content='Could you write a word starting with every letter in my name?', additional_kwargs={}, response_metadata={}, id='62f726a3-6b76-46b5-8d86-cb01a7bce008'), AIMessage(content='Here are words starting with each letter in \"BORJA\":\\n\\nB - Beautiful\\nO - Ocean\\nR - Rainbow\\nJ - Journey\\nA - Adventure', additional_kwargs={}, response_metadata={'id': 'msg_019F99415KVpQEztsU6H6nuG', 'model': 'claude-3-5-sonnet-20241022', 'stop_reason': 'end_turn', 'stop_sequence': None, 'usage': {'cache_creation_input_tokens': 0, 'cache_read_input_tokens': 0, 'input_tokens': 64, 'output_tokens': 36, 'server_tool_use': None}, 'model_name': 'claude-3-5-sonnet-20241022'}, id='run--9b7b07e6-c923-4e4c-aa9d-f3e56711dc92-0', usage_metadata={'input_tokens': 64, 'output_tokens': 36, 'total_tokens': 100, 'input_token_details': {'cache_creation': 0, 'cache_read': 0}}), HumanMessage(content='Thanks, that was great!', additional_kwargs={}, response_metadata={}, id='159f735c-3548-4b75-8ef3-4636cc440170'), AIMessage(content=\"You're welcome, Borja! Glad I could help! Let me know if you need anything else 😊\", additional_kwargs={}, response_metadata={'id': 'msg_01DH3eFErfYdpATv3rXUamXQ', 'model': 'claude-3-5-sonnet-20241022', 'stop_reason': 'end_turn', 'stop_sequence': None, 'usage': {'cache_creation_input_tokens': 0, 'cache_read_input_tokens': 0, 'input_tokens': 109, 'output_tokens': 28, 'server_tool_use': None}, 'model_name': 'claude-3-5-sonnet-20241022'}, id='run--5eeedb41-5c70-4de4-ba73-ce328f646f50-0', usage_metadata={'input_tokens': 109, 'output_tokens': 28, 'total_tokens': 137, 'input_token_details': {'cache_creation': 0, 'cache_read': 0}}), HumanMessage(content='What is my name?', additional_kwargs={}, response_metadata={}, id='d9ef960a-790f-43b8-bf19-f24e855ecb3f'), AIMessage(content='Your name is Borja.', additional_kwargs={}, response_metadata={'id': 'msg_016ZbSKcdJYLwEo8ps8VeDxR', 'model': 'claude-3-5-sonnet-20241022', 'stop_reason': 'end_turn', 'stop_sequence': None, 'usage': {'cache_creation_input_tokens': 0, 'cache_read_input_tokens': 0, 'input_tokens': 145, 'output_tokens': 10, 'server_tool_use': None}, 'model_name': 'claude-3-5-sonnet-20241022'}, id='run--1d7cdd08-92a6-4110-8944-1d842884ee3e-0', usage_metadata={'input_tokens': 145, 'output_tokens': 10, 'total_tokens': 155, 'input_token_details': {'cache_creation': 0, 'cache_read': 0}})]}, next=(), config={'configurable': {'thread_id': '0', 'checkpoint_ns': '', 'checkpoint_id': '1f02f1e7-0954-61d8-800a-c59cc702ebcf'}}, metadata={'source': 'loop', 'writes': {'chatbot': {'messages': [AIMessage(content='Your name is Borja.', additional_kwargs={}, response_metadata={'id': 'msg_016ZbSKcdJYLwEo8ps8VeDxR', 'model': 'claude-3-5-sonnet-20241022', 'stop_reason': 'end_turn', 'stop_sequence': None, 'usage': {'cache_creation_input_tokens': 0, 'cache_read_input_tokens': 0, 'input_tokens': 145, 'output_tokens': 10, 'server_tool_use': None}, 'model_name': 'claude-3-5-sonnet-20241022'}, id='run--1d7cdd08-92a6-4110-8944-1d842884ee3e-0', usage_metadata={'input_tokens': 145, 'output_tokens': 10, 'total_tokens': 155, 'input_token_details': {'cache_creation': 0, 'cache_read': 0}})]}}, 'step': 10, 'parents': {}, 'thread_id': '0'}, created_at='2025-05-12T10:47:03.283917+00:00', parent_config={'configurable': {'thread_id': '0', 'checkpoint_ns': '', 'checkpoint_id': '1f02f1e6-e85d-67c2-8009-e8575318eaee'}}, tasks=(), interrupts=())"
      ]
     },
     "execution_count": null,
     "metadata": {},
     "output_type": "execute_result"
    }
   ],
   "source": [
    "snapshot = graph.get_state(config)\n",
    "snapshot"
   ]
  },
  {
   "cell_type": "markdown",
   "metadata": {},
   "source": [
    "The checkpoint contains the full history of our interactions.\n",
    "For example, we can print the full conversation even though it has been created in two separate sessions."
   ]
  },
  {
   "cell_type": "code",
   "execution_count": null,
   "metadata": {},
   "outputs": [
    {
     "name": "stdout",
     "output_type": "stream",
     "text": [
      "================================\u001b[1m Human Message \u001b[0m=================================\n",
      "\n",
      "Hi, my name's Borja. Nice to meet you!\n",
      "==================================\u001b[1m Ai Message \u001b[0m==================================\n",
      "\n",
      "Hi Borja! Nice to meet you too! I'm an AI assistant. How can I help you today?\n",
      "================================\u001b[1m Human Message \u001b[0m=================================\n",
      "\n",
      "Could you write a word starting with every letter in my name?\n",
      "==================================\u001b[1m Ai Message \u001b[0m==================================\n",
      "\n",
      "Here are words starting with each letter in \"BORJA\":\n",
      "\n",
      "B - Beautiful\n",
      "O - Ocean\n",
      "R - Rainbow\n",
      "J - Journey\n",
      "A - Adventure\n",
      "================================\u001b[1m Human Message \u001b[0m=================================\n",
      "\n",
      "Thanks, that was great!\n",
      "==================================\u001b[1m Ai Message \u001b[0m==================================\n",
      "\n",
      "You're welcome, Borja! Glad I could help! Let me know if you need anything else 😊\n",
      "================================\u001b[1m Human Message \u001b[0m=================================\n",
      "\n",
      "What is my name?\n",
      "==================================\u001b[1m Ai Message \u001b[0m==================================\n",
      "\n",
      "Your name is Borja.\n"
     ]
    }
   ],
   "source": [
    "for message in snapshot.values[\"messages\"]:\n",
    "    message.pretty_print()"
   ]
  },
  {
   "cell_type": "markdown",
   "metadata": {},
   "source": [
    "# Navigating the conversation\n",
    "\n",
    "Saving checkpoints for every step of the graph allows us to rewind and move back and forth in the conversation.\n",
    "Additionally, we can retake it from any point in time and branch off in another thread to explore alternative conversation paths, or even just regenerate the same step.\n",
    "\n",
    "Let's check how it works!\n",
    "\n",
    "We will start with a new thread."
   ]
  },
  {
   "cell_type": "code",
   "execution_count": null,
   "metadata": {},
   "outputs": [],
   "source": [
    "config = {\"configurable\": {\"thread_id\": \"2\"}}"
   ]
  },
  {
   "cell_type": "markdown",
   "metadata": {},
   "source": [
    "Now let's have a couple of interactions with the chatbot."
   ]
  },
  {
   "cell_type": "code",
   "execution_count": null,
   "metadata": {},
   "outputs": [
    {
     "name": "stdout",
     "output_type": "stream",
     "text": [
      "================================\u001b[1m Human Message \u001b[0m=================================\n",
      "\n",
      "Hi Claude!\n",
      "==================================\u001b[1m Ai Message \u001b[0m==================================\n",
      "\n",
      "Hi! Nice to meet you. How can I help you today?\n",
      "================================\u001b[1m Human Message \u001b[0m=================================\n",
      "\n",
      "Let's play a little game. Would you like to?\n",
      "==================================\u001b[1m Ai Message \u001b[0m==================================\n",
      "\n",
      "Sure, I'd be happy to play a game with you! What kind of game did you have in mind?\n",
      "================================\u001b[1m Human Message \u001b[0m=================================\n",
      "\n",
      "Let me explain: I will provide a word and you write an animal name that starts with every letter of the word. Is it clear?\n",
      "==================================\u001b[1m Ai Message \u001b[0m==================================\n",
      "\n",
      "Yes, that's very clear! For example, if you give me the word \"CAT\", I would write:\n",
      "C - Cheetah\n",
      "A - Antelope\n",
      "T - Tiger\n",
      "\n",
      "I'm ready for your word! What will it be?\n",
      "================================\u001b[1m Human Message \u001b[0m=================================\n",
      "\n",
      "pizza\n",
      "==================================\u001b[1m Ai Message \u001b[0m==================================\n",
      "\n",
      "Here are animals for each letter in \"PIZZA\":\n",
      "\n",
      "P - Panther\n",
      "I - Iguana\n",
      "Z - Zebra\n",
      "Z - Zebrafish\n",
      "A - Antelope\n"
     ]
    }
   ],
   "source": [
    "while True:\n",
    "    user_input = input(\"User: \")\n",
    "    # Terminate the conversation with quit, exit or q\n",
    "    if user_input.lower() in [\"quit\", \"exit\", \"q\"]:\n",
    "        break\n",
    "\n",
    "    stream_message(user_input, config)"
   ]
  },
  {
   "cell_type": "markdown",
   "metadata": {},
   "source": [
    "Now that we have had a few interactions with the chatbot, we can inspect the _state history_.\n",
    "\n",
    "In the previous section, we have seen what the state at the end of the conversation with `graph.get_state`.\n",
    "The state history contains the collection of state snapshots after every interaction with the chatbot with the most recents first."
   ]
  },
  {
   "cell_type": "code",
   "execution_count": null,
   "metadata": {},
   "outputs": [
    {
     "name": "stdout",
     "output_type": "stream",
     "text": [
      "StateSnapshot(values={'messages': [HumanMessage(content='Hi Claude!', additional_kwargs={}, response_metadata={}, id='baa5cbbf-c647-472f-8e9e-508ae0731975'), AIMessage(content='Hi! Nice to meet you. How can I help you today?', additional_kwargs={}, response_metadata={'id': 'msg_01R9R1ecDJ21NELrtZ9qTeQx', 'model': 'claude-3-5-sonnet-latest', 'stop_reason': 'end_turn', 'stop_sequence': None, 'usage': {'cache_creation_input_tokens': 0, 'cache_read_input_tokens': 0, 'input_tokens': 10, 'output_tokens': 17, 'server_tool_use': None}, 'model_name': 'claude-3-5-sonnet-latest'}, id='run--aaaf22ae-e80e-4e2b-958f-c5fbf7efc078-0', usage_metadata={'input_tokens': 10, 'output_tokens': 17, 'total_tokens': 27, 'input_token_details': {'cache_creation': 0, 'cache_read': 0}}), HumanMessage(content=\"Let's play a little game. Would you like to?\", additional_kwargs={}, response_metadata={}, id='96b5c705-f1f8-413c-99f8-eeca7dd56762'), AIMessage(content=\"Sure, I'd be happy to play a game with you! What kind of game did you have in mind?\", additional_kwargs={}, response_metadata={'id': 'msg_01BecokiNX63s9mNqbXaa6Q8', 'model': 'claude-3-5-sonnet-latest', 'stop_reason': 'end_turn', 'stop_sequence': None, 'usage': {'cache_creation_input_tokens': 0, 'cache_read_input_tokens': 0, 'input_tokens': 42, 'output_tokens': 26, 'server_tool_use': None}, 'model_name': 'claude-3-5-sonnet-latest'}, id='run--c192f967-f54e-45c1-bd12-32945c2c9b1e-0', usage_metadata={'input_tokens': 42, 'output_tokens': 26, 'total_tokens': 68, 'input_token_details': {'cache_creation': 0, 'cache_read': 0}}), HumanMessage(content='Let me explain: I will provide a word and you write an animal name that starts with every letter of the word. Is it clear?', additional_kwargs={}, response_metadata={}, id='c57e7d55-91ef-4794-970f-eb0f2853f5d6'), AIMessage(content='Yes, that\\'s very clear! For example, if you give me the word \"CAT\", I would write:\\nC - Cheetah\\nA - Antelope\\nT - Tiger\\n\\nI\\'m ready for your word! What will it be?', additional_kwargs={}, response_metadata={'id': 'msg_01CQ7Auv12QUdZSphWfg3S53', 'model': 'claude-3-5-sonnet-latest', 'stop_reason': 'end_turn', 'stop_sequence': None, 'usage': {'cache_creation_input_tokens': 0, 'cache_read_input_tokens': 0, 'input_tokens': 99, 'output_tokens': 57, 'server_tool_use': None}, 'model_name': 'claude-3-5-sonnet-latest'}, id='run--d79981a1-de5c-4ac1-941b-64895e0ab7ba-0', usage_metadata={'input_tokens': 99, 'output_tokens': 57, 'total_tokens': 156, 'input_token_details': {'cache_creation': 0, 'cache_read': 0}}), HumanMessage(content='pizza', additional_kwargs={}, response_metadata={}, id='7f7ba15d-b3c2-48bd-971e-8cb2b6ec7dec'), AIMessage(content='Here are animals for each letter in \"PIZZA\":\\n\\nP - Panther\\nI - Iguana\\nZ - Zebra\\nZ - Zebrafish\\nA - Antelope', additional_kwargs={}, response_metadata={'id': 'msg_01RKf2Yey53KKJayrKjkXxqp', 'model': 'claude-3-5-sonnet-latest', 'stop_reason': 'end_turn', 'stop_sequence': None, 'usage': {'cache_creation_input_tokens': 0, 'cache_read_input_tokens': 0, 'input_tokens': 160, 'output_tokens': 45, 'server_tool_use': None}, 'model_name': 'claude-3-5-sonnet-latest'}, id='run--ce5674e4-345c-4110-8713-eaef9d7c960b-0', usage_metadata={'input_tokens': 160, 'output_tokens': 45, 'total_tokens': 205, 'input_token_details': {'cache_creation': 0, 'cache_read': 0}})]}, next=(), config={'configurable': {'thread_id': '2', 'checkpoint_ns': '', 'checkpoint_id': '1f02fe51-9e98-6d40-800a-18b4c3b30d23'}}, metadata={'source': 'loop', 'writes': {'chatbot': {'messages': [AIMessage(content='Here are animals for each letter in \"PIZZA\":\\n\\nP - Panther\\nI - Iguana\\nZ - Zebra\\nZ - Zebrafish\\nA - Antelope', additional_kwargs={}, response_metadata={'id': 'msg_01RKf2Yey53KKJayrKjkXxqp', 'model': 'claude-3-5-sonnet-latest', 'stop_reason': 'end_turn', 'stop_sequence': None, 'usage': {'cache_creation_input_tokens': 0, 'cache_read_input_tokens': 0, 'input_tokens': 160, 'output_tokens': 45, 'server_tool_use': None}, 'model_name': 'claude-3-5-sonnet-latest'}, id='run--ce5674e4-345c-4110-8713-eaef9d7c960b-0', usage_metadata={'input_tokens': 160, 'output_tokens': 45, 'total_tokens': 205, 'input_token_details': {'cache_creation': 0, 'cache_read': 0}})]}}, 'step': 10, 'parents': {}, 'thread_id': '2'}, created_at='2025-05-13T10:29:07.723784+00:00', parent_config={'configurable': {'thread_id': '2', 'checkpoint_ns': '', 'checkpoint_id': '1f02fe51-8d26-67d8-8009-474bfe9b84bf'}}, tasks=(), interrupts=())\n",
      "StateSnapshot(values={'messages': [HumanMessage(content='Hi Claude!', additional_kwargs={}, response_metadata={}, id='baa5cbbf-c647-472f-8e9e-508ae0731975'), AIMessage(content='Hi! Nice to meet you. How can I help you today?', additional_kwargs={}, response_metadata={'id': 'msg_01R9R1ecDJ21NELrtZ9qTeQx', 'model': 'claude-3-5-sonnet-latest', 'stop_reason': 'end_turn', 'stop_sequence': None, 'usage': {'cache_creation_input_tokens': 0, 'cache_read_input_tokens': 0, 'input_tokens': 10, 'output_tokens': 17, 'server_tool_use': None}, 'model_name': 'claude-3-5-sonnet-latest'}, id='run--aaaf22ae-e80e-4e2b-958f-c5fbf7efc078-0', usage_metadata={'input_tokens': 10, 'output_tokens': 17, 'total_tokens': 27, 'input_token_details': {'cache_creation': 0, 'cache_read': 0}}), HumanMessage(content=\"Let's play a little game. Would you like to?\", additional_kwargs={}, response_metadata={}, id='96b5c705-f1f8-413c-99f8-eeca7dd56762'), AIMessage(content=\"Sure, I'd be happy to play a game with you! What kind of game did you have in mind?\", additional_kwargs={}, response_metadata={'id': 'msg_01BecokiNX63s9mNqbXaa6Q8', 'model': 'claude-3-5-sonnet-latest', 'stop_reason': 'end_turn', 'stop_sequence': None, 'usage': {'cache_creation_input_tokens': 0, 'cache_read_input_tokens': 0, 'input_tokens': 42, 'output_tokens': 26, 'server_tool_use': None}, 'model_name': 'claude-3-5-sonnet-latest'}, id='run--c192f967-f54e-45c1-bd12-32945c2c9b1e-0', usage_metadata={'input_tokens': 42, 'output_tokens': 26, 'total_tokens': 68, 'input_token_details': {'cache_creation': 0, 'cache_read': 0}}), HumanMessage(content='Let me explain: I will provide a word and you write an animal name that starts with every letter of the word. Is it clear?', additional_kwargs={}, response_metadata={}, id='c57e7d55-91ef-4794-970f-eb0f2853f5d6'), AIMessage(content='Yes, that\\'s very clear! For example, if you give me the word \"CAT\", I would write:\\nC - Cheetah\\nA - Antelope\\nT - Tiger\\n\\nI\\'m ready for your word! What will it be?', additional_kwargs={}, response_metadata={'id': 'msg_01CQ7Auv12QUdZSphWfg3S53', 'model': 'claude-3-5-sonnet-latest', 'stop_reason': 'end_turn', 'stop_sequence': None, 'usage': {'cache_creation_input_tokens': 0, 'cache_read_input_tokens': 0, 'input_tokens': 99, 'output_tokens': 57, 'server_tool_use': None}, 'model_name': 'claude-3-5-sonnet-latest'}, id='run--d79981a1-de5c-4ac1-941b-64895e0ab7ba-0', usage_metadata={'input_tokens': 99, 'output_tokens': 57, 'total_tokens': 156, 'input_token_details': {'cache_creation': 0, 'cache_read': 0}}), HumanMessage(content='pizza', additional_kwargs={}, response_metadata={}, id='7f7ba15d-b3c2-48bd-971e-8cb2b6ec7dec')]}, next=('chatbot',), config={'configurable': {'thread_id': '2', 'checkpoint_ns': '', 'checkpoint_id': '1f02fe51-8d26-67d8-8009-474bfe9b84bf'}}, metadata={'source': 'loop', 'writes': None, 'step': 9, 'parents': {}, 'thread_id': '2'}, created_at='2025-05-13T10:29:05.894375+00:00', parent_config={'configurable': {'thread_id': '2', 'checkpoint_ns': '', 'checkpoint_id': '1f02fe51-8d23-6d6c-8008-de92c71861a4'}}, tasks=(PregelTask(id='9cefc84d-3495-4f0f-557f-efea5ddedbcc', name='chatbot', path=('__pregel_pull', 'chatbot'), error=None, interrupts=(), state=None, result={'messages': [AIMessage(content='Here are animals for each letter in \"PIZZA\":\\n\\nP - Panther\\nI - Iguana\\nZ - Zebra\\nZ - Zebrafish\\nA - Antelope', additional_kwargs={}, response_metadata={'id': 'msg_01RKf2Yey53KKJayrKjkXxqp', 'model': 'claude-3-5-sonnet-latest', 'stop_reason': 'end_turn', 'stop_sequence': None, 'usage': {'cache_creation_input_tokens': 0, 'cache_read_input_tokens': 0, 'input_tokens': 160, 'output_tokens': 45, 'server_tool_use': None}, 'model_name': 'claude-3-5-sonnet-latest'}, id='run--ce5674e4-345c-4110-8713-eaef9d7c960b-0', usage_metadata={'input_tokens': 160, 'output_tokens': 45, 'total_tokens': 205, 'input_token_details': {'cache_creation': 0, 'cache_read': 0}})]}),), interrupts=())\n",
      "StateSnapshot(values={'messages': [HumanMessage(content='Hi Claude!', additional_kwargs={}, response_metadata={}, id='baa5cbbf-c647-472f-8e9e-508ae0731975'), AIMessage(content='Hi! Nice to meet you. How can I help you today?', additional_kwargs={}, response_metadata={'id': 'msg_01R9R1ecDJ21NELrtZ9qTeQx', 'model': 'claude-3-5-sonnet-latest', 'stop_reason': 'end_turn', 'stop_sequence': None, 'usage': {'cache_creation_input_tokens': 0, 'cache_read_input_tokens': 0, 'input_tokens': 10, 'output_tokens': 17, 'server_tool_use': None}, 'model_name': 'claude-3-5-sonnet-latest'}, id='run--aaaf22ae-e80e-4e2b-958f-c5fbf7efc078-0', usage_metadata={'input_tokens': 10, 'output_tokens': 17, 'total_tokens': 27, 'input_token_details': {'cache_creation': 0, 'cache_read': 0}}), HumanMessage(content=\"Let's play a little game. Would you like to?\", additional_kwargs={}, response_metadata={}, id='96b5c705-f1f8-413c-99f8-eeca7dd56762'), AIMessage(content=\"Sure, I'd be happy to play a game with you! What kind of game did you have in mind?\", additional_kwargs={}, response_metadata={'id': 'msg_01BecokiNX63s9mNqbXaa6Q8', 'model': 'claude-3-5-sonnet-latest', 'stop_reason': 'end_turn', 'stop_sequence': None, 'usage': {'cache_creation_input_tokens': 0, 'cache_read_input_tokens': 0, 'input_tokens': 42, 'output_tokens': 26, 'server_tool_use': None}, 'model_name': 'claude-3-5-sonnet-latest'}, id='run--c192f967-f54e-45c1-bd12-32945c2c9b1e-0', usage_metadata={'input_tokens': 42, 'output_tokens': 26, 'total_tokens': 68, 'input_token_details': {'cache_creation': 0, 'cache_read': 0}}), HumanMessage(content='Let me explain: I will provide a word and you write an animal name that starts with every letter of the word. Is it clear?', additional_kwargs={}, response_metadata={}, id='c57e7d55-91ef-4794-970f-eb0f2853f5d6'), AIMessage(content='Yes, that\\'s very clear! For example, if you give me the word \"CAT\", I would write:\\nC - Cheetah\\nA - Antelope\\nT - Tiger\\n\\nI\\'m ready for your word! What will it be?', additional_kwargs={}, response_metadata={'id': 'msg_01CQ7Auv12QUdZSphWfg3S53', 'model': 'claude-3-5-sonnet-latest', 'stop_reason': 'end_turn', 'stop_sequence': None, 'usage': {'cache_creation_input_tokens': 0, 'cache_read_input_tokens': 0, 'input_tokens': 99, 'output_tokens': 57, 'server_tool_use': None}, 'model_name': 'claude-3-5-sonnet-latest'}, id='run--d79981a1-de5c-4ac1-941b-64895e0ab7ba-0', usage_metadata={'input_tokens': 99, 'output_tokens': 57, 'total_tokens': 156, 'input_token_details': {'cache_creation': 0, 'cache_read': 0}})]}, next=('__start__',), config={'configurable': {'thread_id': '2', 'checkpoint_ns': '', 'checkpoint_id': '1f02fe51-8d23-6d6c-8008-de92c71861a4'}}, metadata={'source': 'input', 'writes': {'__start__': {'messages': [{'role': 'user', 'content': 'pizza'}]}}, 'step': 8, 'parents': {}, 'thread_id': '2'}, created_at='2025-05-13T10:29:05.893278+00:00', parent_config={'configurable': {'thread_id': '2', 'checkpoint_ns': '', 'checkpoint_id': '1f02fe50-fe1a-6724-8007-79bf71fc0b5e'}}, tasks=(PregelTask(id='4b460468-04e5-e8e3-c3ca-a2546382c71a', name='__start__', path=('__pregel_pull', '__start__'), error=None, interrupts=(), state=None, result={'messages': [{'role': 'user', 'content': 'pizza'}]}),), interrupts=())\n",
      "StateSnapshot(values={'messages': [HumanMessage(content='Hi Claude!', additional_kwargs={}, response_metadata={}, id='baa5cbbf-c647-472f-8e9e-508ae0731975'), AIMessage(content='Hi! Nice to meet you. How can I help you today?', additional_kwargs={}, response_metadata={'id': 'msg_01R9R1ecDJ21NELrtZ9qTeQx', 'model': 'claude-3-5-sonnet-latest', 'stop_reason': 'end_turn', 'stop_sequence': None, 'usage': {'cache_creation_input_tokens': 0, 'cache_read_input_tokens': 0, 'input_tokens': 10, 'output_tokens': 17, 'server_tool_use': None}, 'model_name': 'claude-3-5-sonnet-latest'}, id='run--aaaf22ae-e80e-4e2b-958f-c5fbf7efc078-0', usage_metadata={'input_tokens': 10, 'output_tokens': 17, 'total_tokens': 27, 'input_token_details': {'cache_creation': 0, 'cache_read': 0}}), HumanMessage(content=\"Let's play a little game. Would you like to?\", additional_kwargs={}, response_metadata={}, id='96b5c705-f1f8-413c-99f8-eeca7dd56762'), AIMessage(content=\"Sure, I'd be happy to play a game with you! What kind of game did you have in mind?\", additional_kwargs={}, response_metadata={'id': 'msg_01BecokiNX63s9mNqbXaa6Q8', 'model': 'claude-3-5-sonnet-latest', 'stop_reason': 'end_turn', 'stop_sequence': None, 'usage': {'cache_creation_input_tokens': 0, 'cache_read_input_tokens': 0, 'input_tokens': 42, 'output_tokens': 26, 'server_tool_use': None}, 'model_name': 'claude-3-5-sonnet-latest'}, id='run--c192f967-f54e-45c1-bd12-32945c2c9b1e-0', usage_metadata={'input_tokens': 42, 'output_tokens': 26, 'total_tokens': 68, 'input_token_details': {'cache_creation': 0, 'cache_read': 0}}), HumanMessage(content='Let me explain: I will provide a word and you write an animal name that starts with every letter of the word. Is it clear?', additional_kwargs={}, response_metadata={}, id='c57e7d55-91ef-4794-970f-eb0f2853f5d6'), AIMessage(content='Yes, that\\'s very clear! For example, if you give me the word \"CAT\", I would write:\\nC - Cheetah\\nA - Antelope\\nT - Tiger\\n\\nI\\'m ready for your word! What will it be?', additional_kwargs={}, response_metadata={'id': 'msg_01CQ7Auv12QUdZSphWfg3S53', 'model': 'claude-3-5-sonnet-latest', 'stop_reason': 'end_turn', 'stop_sequence': None, 'usage': {'cache_creation_input_tokens': 0, 'cache_read_input_tokens': 0, 'input_tokens': 99, 'output_tokens': 57, 'server_tool_use': None}, 'model_name': 'claude-3-5-sonnet-latest'}, id='run--d79981a1-de5c-4ac1-941b-64895e0ab7ba-0', usage_metadata={'input_tokens': 99, 'output_tokens': 57, 'total_tokens': 156, 'input_token_details': {'cache_creation': 0, 'cache_read': 0}})]}, next=(), config={'configurable': {'thread_id': '2', 'checkpoint_ns': '', 'checkpoint_id': '1f02fe50-fe1a-6724-8007-79bf71fc0b5e'}}, metadata={'source': 'loop', 'writes': {'chatbot': {'messages': [AIMessage(content='Yes, that\\'s very clear! For example, if you give me the word \"CAT\", I would write:\\nC - Cheetah\\nA - Antelope\\nT - Tiger\\n\\nI\\'m ready for your word! What will it be?', additional_kwargs={}, response_metadata={'id': 'msg_01CQ7Auv12QUdZSphWfg3S53', 'model': 'claude-3-5-sonnet-latest', 'stop_reason': 'end_turn', 'stop_sequence': None, 'usage': {'cache_creation_input_tokens': 0, 'cache_read_input_tokens': 0, 'input_tokens': 99, 'output_tokens': 57, 'server_tool_use': None}, 'model_name': 'claude-3-5-sonnet-latest'}, id='run--d79981a1-de5c-4ac1-941b-64895e0ab7ba-0', usage_metadata={'input_tokens': 99, 'output_tokens': 57, 'total_tokens': 156, 'input_token_details': {'cache_creation': 0, 'cache_read': 0}})]}}, 'step': 7, 'parents': {}, 'thread_id': '2'}, created_at='2025-05-13T10:28:50.894793+00:00', parent_config={'configurable': {'thread_id': '2', 'checkpoint_ns': '', 'checkpoint_id': '1f02fe50-ed43-6694-8006-2e292fcba355'}}, tasks=(), interrupts=())\n",
      "StateSnapshot(values={'messages': [HumanMessage(content='Hi Claude!', additional_kwargs={}, response_metadata={}, id='baa5cbbf-c647-472f-8e9e-508ae0731975'), AIMessage(content='Hi! Nice to meet you. How can I help you today?', additional_kwargs={}, response_metadata={'id': 'msg_01R9R1ecDJ21NELrtZ9qTeQx', 'model': 'claude-3-5-sonnet-latest', 'stop_reason': 'end_turn', 'stop_sequence': None, 'usage': {'cache_creation_input_tokens': 0, 'cache_read_input_tokens': 0, 'input_tokens': 10, 'output_tokens': 17, 'server_tool_use': None}, 'model_name': 'claude-3-5-sonnet-latest'}, id='run--aaaf22ae-e80e-4e2b-958f-c5fbf7efc078-0', usage_metadata={'input_tokens': 10, 'output_tokens': 17, 'total_tokens': 27, 'input_token_details': {'cache_creation': 0, 'cache_read': 0}}), HumanMessage(content=\"Let's play a little game. Would you like to?\", additional_kwargs={}, response_metadata={}, id='96b5c705-f1f8-413c-99f8-eeca7dd56762'), AIMessage(content=\"Sure, I'd be happy to play a game with you! What kind of game did you have in mind?\", additional_kwargs={}, response_metadata={'id': 'msg_01BecokiNX63s9mNqbXaa6Q8', 'model': 'claude-3-5-sonnet-latest', 'stop_reason': 'end_turn', 'stop_sequence': None, 'usage': {'cache_creation_input_tokens': 0, 'cache_read_input_tokens': 0, 'input_tokens': 42, 'output_tokens': 26, 'server_tool_use': None}, 'model_name': 'claude-3-5-sonnet-latest'}, id='run--c192f967-f54e-45c1-bd12-32945c2c9b1e-0', usage_metadata={'input_tokens': 42, 'output_tokens': 26, 'total_tokens': 68, 'input_token_details': {'cache_creation': 0, 'cache_read': 0}}), HumanMessage(content='Let me explain: I will provide a word and you write an animal name that starts with every letter of the word. Is it clear?', additional_kwargs={}, response_metadata={}, id='c57e7d55-91ef-4794-970f-eb0f2853f5d6')]}, next=('chatbot',), config={'configurable': {'thread_id': '2', 'checkpoint_ns': '', 'checkpoint_id': '1f02fe50-ed43-6694-8006-2e292fcba355'}}, metadata={'source': 'loop', 'writes': None, 'step': 6, 'parents': {}, 'thread_id': '2'}, created_at='2025-05-13T10:28:49.129007+00:00', parent_config={'configurable': {'thread_id': '2', 'checkpoint_ns': '', 'checkpoint_id': '1f02fe50-ed40-6516-8005-6abbb8f438e4'}}, tasks=(PregelTask(id='620e851a-f1a2-1ed8-e067-e7dbfb7c96f0', name='chatbot', path=('__pregel_pull', 'chatbot'), error=None, interrupts=(), state=None, result={'messages': [AIMessage(content='Yes, that\\'s very clear! For example, if you give me the word \"CAT\", I would write:\\nC - Cheetah\\nA - Antelope\\nT - Tiger\\n\\nI\\'m ready for your word! What will it be?', additional_kwargs={}, response_metadata={'id': 'msg_01CQ7Auv12QUdZSphWfg3S53', 'model': 'claude-3-5-sonnet-latest', 'stop_reason': 'end_turn', 'stop_sequence': None, 'usage': {'cache_creation_input_tokens': 0, 'cache_read_input_tokens': 0, 'input_tokens': 99, 'output_tokens': 57, 'server_tool_use': None}, 'model_name': 'claude-3-5-sonnet-latest'}, id='run--d79981a1-de5c-4ac1-941b-64895e0ab7ba-0', usage_metadata={'input_tokens': 99, 'output_tokens': 57, 'total_tokens': 156, 'input_token_details': {'cache_creation': 0, 'cache_read': 0}})]}),), interrupts=())\n",
      "StateSnapshot(values={'messages': [HumanMessage(content='Hi Claude!', additional_kwargs={}, response_metadata={}, id='baa5cbbf-c647-472f-8e9e-508ae0731975'), AIMessage(content='Hi! Nice to meet you. How can I help you today?', additional_kwargs={}, response_metadata={'id': 'msg_01R9R1ecDJ21NELrtZ9qTeQx', 'model': 'claude-3-5-sonnet-latest', 'stop_reason': 'end_turn', 'stop_sequence': None, 'usage': {'cache_creation_input_tokens': 0, 'cache_read_input_tokens': 0, 'input_tokens': 10, 'output_tokens': 17, 'server_tool_use': None}, 'model_name': 'claude-3-5-sonnet-latest'}, id='run--aaaf22ae-e80e-4e2b-958f-c5fbf7efc078-0', usage_metadata={'input_tokens': 10, 'output_tokens': 17, 'total_tokens': 27, 'input_token_details': {'cache_creation': 0, 'cache_read': 0}}), HumanMessage(content=\"Let's play a little game. Would you like to?\", additional_kwargs={}, response_metadata={}, id='96b5c705-f1f8-413c-99f8-eeca7dd56762'), AIMessage(content=\"Sure, I'd be happy to play a game with you! What kind of game did you have in mind?\", additional_kwargs={}, response_metadata={'id': 'msg_01BecokiNX63s9mNqbXaa6Q8', 'model': 'claude-3-5-sonnet-latest', 'stop_reason': 'end_turn', 'stop_sequence': None, 'usage': {'cache_creation_input_tokens': 0, 'cache_read_input_tokens': 0, 'input_tokens': 42, 'output_tokens': 26, 'server_tool_use': None}, 'model_name': 'claude-3-5-sonnet-latest'}, id='run--c192f967-f54e-45c1-bd12-32945c2c9b1e-0', usage_metadata={'input_tokens': 42, 'output_tokens': 26, 'total_tokens': 68, 'input_token_details': {'cache_creation': 0, 'cache_read': 0}})]}, next=('__start__',), config={'configurable': {'thread_id': '2', 'checkpoint_ns': '', 'checkpoint_id': '1f02fe50-ed40-6516-8005-6abbb8f438e4'}}, metadata={'source': 'input', 'writes': {'__start__': {'messages': [{'role': 'user', 'content': 'Let me explain: I will provide a word and you write an animal name that starts with every letter of the word. Is it clear?'}]}}, 'step': 5, 'parents': {}, 'thread_id': '2'}, created_at='2025-05-13T10:28:49.127721+00:00', parent_config={'configurable': {'thread_id': '2', 'checkpoint_ns': '', 'checkpoint_id': '1f02fe50-9402-64fe-8004-3bf8bf1ae823'}}, tasks=(PregelTask(id='ae64fe8c-f65e-7845-0254-efa23bf8ae74', name='__start__', path=('__pregel_pull', '__start__'), error=None, interrupts=(), state=None, result={'messages': [{'role': 'user', 'content': 'Let me explain: I will provide a word and you write an animal name that starts with every letter of the word. Is it clear?'}]}),), interrupts=())\n",
      "StateSnapshot(values={'messages': [HumanMessage(content='Hi Claude!', additional_kwargs={}, response_metadata={}, id='baa5cbbf-c647-472f-8e9e-508ae0731975'), AIMessage(content='Hi! Nice to meet you. How can I help you today?', additional_kwargs={}, response_metadata={'id': 'msg_01R9R1ecDJ21NELrtZ9qTeQx', 'model': 'claude-3-5-sonnet-latest', 'stop_reason': 'end_turn', 'stop_sequence': None, 'usage': {'cache_creation_input_tokens': 0, 'cache_read_input_tokens': 0, 'input_tokens': 10, 'output_tokens': 17, 'server_tool_use': None}, 'model_name': 'claude-3-5-sonnet-latest'}, id='run--aaaf22ae-e80e-4e2b-958f-c5fbf7efc078-0', usage_metadata={'input_tokens': 10, 'output_tokens': 17, 'total_tokens': 27, 'input_token_details': {'cache_creation': 0, 'cache_read': 0}}), HumanMessage(content=\"Let's play a little game. Would you like to?\", additional_kwargs={}, response_metadata={}, id='96b5c705-f1f8-413c-99f8-eeca7dd56762'), AIMessage(content=\"Sure, I'd be happy to play a game with you! What kind of game did you have in mind?\", additional_kwargs={}, response_metadata={'id': 'msg_01BecokiNX63s9mNqbXaa6Q8', 'model': 'claude-3-5-sonnet-latest', 'stop_reason': 'end_turn', 'stop_sequence': None, 'usage': {'cache_creation_input_tokens': 0, 'cache_read_input_tokens': 0, 'input_tokens': 42, 'output_tokens': 26, 'server_tool_use': None}, 'model_name': 'claude-3-5-sonnet-latest'}, id='run--c192f967-f54e-45c1-bd12-32945c2c9b1e-0', usage_metadata={'input_tokens': 42, 'output_tokens': 26, 'total_tokens': 68, 'input_token_details': {'cache_creation': 0, 'cache_read': 0}})]}, next=(), config={'configurable': {'thread_id': '2', 'checkpoint_ns': '', 'checkpoint_id': '1f02fe50-9402-64fe-8004-3bf8bf1ae823'}}, metadata={'source': 'loop', 'writes': {'chatbot': {'messages': [AIMessage(content=\"Sure, I'd be happy to play a game with you! What kind of game did you have in mind?\", additional_kwargs={}, response_metadata={'id': 'msg_01BecokiNX63s9mNqbXaa6Q8', 'model': 'claude-3-5-sonnet-latest', 'stop_reason': 'end_turn', 'stop_sequence': None, 'usage': {'cache_creation_input_tokens': 0, 'cache_read_input_tokens': 0, 'input_tokens': 42, 'output_tokens': 26, 'server_tool_use': None}, 'model_name': 'claude-3-5-sonnet-latest'}, id='run--c192f967-f54e-45c1-bd12-32945c2c9b1e-0', usage_metadata={'input_tokens': 42, 'output_tokens': 26, 'total_tokens': 68, 'input_token_details': {'cache_creation': 0, 'cache_read': 0}})]}}, 'step': 4, 'parents': {}, 'thread_id': '2'}, created_at='2025-05-13T10:28:39.770008+00:00', parent_config={'configurable': {'thread_id': '2', 'checkpoint_ns': '', 'checkpoint_id': '1f02fe50-84db-6476-8003-edea7885e6fb'}}, tasks=(), interrupts=())\n",
      "StateSnapshot(values={'messages': [HumanMessage(content='Hi Claude!', additional_kwargs={}, response_metadata={}, id='baa5cbbf-c647-472f-8e9e-508ae0731975'), AIMessage(content='Hi! Nice to meet you. How can I help you today?', additional_kwargs={}, response_metadata={'id': 'msg_01R9R1ecDJ21NELrtZ9qTeQx', 'model': 'claude-3-5-sonnet-latest', 'stop_reason': 'end_turn', 'stop_sequence': None, 'usage': {'cache_creation_input_tokens': 0, 'cache_read_input_tokens': 0, 'input_tokens': 10, 'output_tokens': 17, 'server_tool_use': None}, 'model_name': 'claude-3-5-sonnet-latest'}, id='run--aaaf22ae-e80e-4e2b-958f-c5fbf7efc078-0', usage_metadata={'input_tokens': 10, 'output_tokens': 17, 'total_tokens': 27, 'input_token_details': {'cache_creation': 0, 'cache_read': 0}}), HumanMessage(content=\"Let's play a little game. Would you like to?\", additional_kwargs={}, response_metadata={}, id='96b5c705-f1f8-413c-99f8-eeca7dd56762')]}, next=('chatbot',), config={'configurable': {'thread_id': '2', 'checkpoint_ns': '', 'checkpoint_id': '1f02fe50-84db-6476-8003-edea7885e6fb'}}, metadata={'source': 'loop', 'writes': None, 'step': 3, 'parents': {}, 'thread_id': '2'}, created_at='2025-05-13T10:28:38.181169+00:00', parent_config={'configurable': {'thread_id': '2', 'checkpoint_ns': '', 'checkpoint_id': '1f02fe50-84d8-6cbc-8002-52b305d4c389'}}, tasks=(PregelTask(id='11b20c52-e9ee-7506-8a33-a2f98096dc2e', name='chatbot', path=('__pregel_pull', 'chatbot'), error=None, interrupts=(), state=None, result={'messages': [AIMessage(content=\"Sure, I'd be happy to play a game with you! What kind of game did you have in mind?\", additional_kwargs={}, response_metadata={'id': 'msg_01BecokiNX63s9mNqbXaa6Q8', 'model': 'claude-3-5-sonnet-latest', 'stop_reason': 'end_turn', 'stop_sequence': None, 'usage': {'cache_creation_input_tokens': 0, 'cache_read_input_tokens': 0, 'input_tokens': 42, 'output_tokens': 26, 'server_tool_use': None}, 'model_name': 'claude-3-5-sonnet-latest'}, id='run--c192f967-f54e-45c1-bd12-32945c2c9b1e-0', usage_metadata={'input_tokens': 42, 'output_tokens': 26, 'total_tokens': 68, 'input_token_details': {'cache_creation': 0, 'cache_read': 0}})]}),), interrupts=())\n",
      "StateSnapshot(values={'messages': [HumanMessage(content='Hi Claude!', additional_kwargs={}, response_metadata={}, id='baa5cbbf-c647-472f-8e9e-508ae0731975'), AIMessage(content='Hi! Nice to meet you. How can I help you today?', additional_kwargs={}, response_metadata={'id': 'msg_01R9R1ecDJ21NELrtZ9qTeQx', 'model': 'claude-3-5-sonnet-latest', 'stop_reason': 'end_turn', 'stop_sequence': None, 'usage': {'cache_creation_input_tokens': 0, 'cache_read_input_tokens': 0, 'input_tokens': 10, 'output_tokens': 17, 'server_tool_use': None}, 'model_name': 'claude-3-5-sonnet-latest'}, id='run--aaaf22ae-e80e-4e2b-958f-c5fbf7efc078-0', usage_metadata={'input_tokens': 10, 'output_tokens': 17, 'total_tokens': 27, 'input_token_details': {'cache_creation': 0, 'cache_read': 0}})]}, next=('__start__',), config={'configurable': {'thread_id': '2', 'checkpoint_ns': '', 'checkpoint_id': '1f02fe50-84d8-6cbc-8002-52b305d4c389'}}, metadata={'source': 'input', 'writes': {'__start__': {'messages': [{'role': 'user', 'content': \"Let's play a little game. Would you like to?\"}]}}, 'step': 2, 'parents': {}, 'thread_id': '2'}, created_at='2025-05-13T10:28:38.180131+00:00', parent_config={'configurable': {'thread_id': '2', 'checkpoint_ns': '', 'checkpoint_id': '1f02fe50-4add-667a-8001-77f877baea43'}}, tasks=(PregelTask(id='3841d8f8-f9f8-258e-82d6-0030269be5ef', name='__start__', path=('__pregel_pull', '__start__'), error=None, interrupts=(), state=None, result={'messages': [{'role': 'user', 'content': \"Let's play a little game. Would you like to?\"}]}),), interrupts=())\n",
      "StateSnapshot(values={'messages': [HumanMessage(content='Hi Claude!', additional_kwargs={}, response_metadata={}, id='baa5cbbf-c647-472f-8e9e-508ae0731975'), AIMessage(content='Hi! Nice to meet you. How can I help you today?', additional_kwargs={}, response_metadata={'id': 'msg_01R9R1ecDJ21NELrtZ9qTeQx', 'model': 'claude-3-5-sonnet-latest', 'stop_reason': 'end_turn', 'stop_sequence': None, 'usage': {'cache_creation_input_tokens': 0, 'cache_read_input_tokens': 0, 'input_tokens': 10, 'output_tokens': 17, 'server_tool_use': None}, 'model_name': 'claude-3-5-sonnet-latest'}, id='run--aaaf22ae-e80e-4e2b-958f-c5fbf7efc078-0', usage_metadata={'input_tokens': 10, 'output_tokens': 17, 'total_tokens': 27, 'input_token_details': {'cache_creation': 0, 'cache_read': 0}})]}, next=(), config={'configurable': {'thread_id': '2', 'checkpoint_ns': '', 'checkpoint_id': '1f02fe50-4add-667a-8001-77f877baea43'}}, metadata={'source': 'loop', 'writes': {'chatbot': {'messages': [AIMessage(content='Hi! Nice to meet you. How can I help you today?', additional_kwargs={}, response_metadata={'id': 'msg_01R9R1ecDJ21NELrtZ9qTeQx', 'model': 'claude-3-5-sonnet-latest', 'stop_reason': 'end_turn', 'stop_sequence': None, 'usage': {'cache_creation_input_tokens': 0, 'cache_read_input_tokens': 0, 'input_tokens': 10, 'output_tokens': 17, 'server_tool_use': None}, 'model_name': 'claude-3-5-sonnet-latest'}, id='run--aaaf22ae-e80e-4e2b-958f-c5fbf7efc078-0', usage_metadata={'input_tokens': 10, 'output_tokens': 17, 'total_tokens': 27, 'input_token_details': {'cache_creation': 0, 'cache_read': 0}})]}}, 'step': 1, 'parents': {}, 'thread_id': '2'}, created_at='2025-05-13T10:28:32.100288+00:00', parent_config={'configurable': {'thread_id': '2', 'checkpoint_ns': '', 'checkpoint_id': '1f02fe50-3cd6-6cac-8000-6b4411417ab5'}}, tasks=(), interrupts=())\n",
      "StateSnapshot(values={'messages': [HumanMessage(content='Hi Claude!', additional_kwargs={}, response_metadata={}, id='baa5cbbf-c647-472f-8e9e-508ae0731975')]}, next=('chatbot',), config={'configurable': {'thread_id': '2', 'checkpoint_ns': '', 'checkpoint_id': '1f02fe50-3cd6-6cac-8000-6b4411417ab5'}}, metadata={'source': 'loop', 'writes': None, 'step': 0, 'parents': {}, 'thread_id': '2'}, created_at='2025-05-13T10:28:30.629585+00:00', parent_config={'configurable': {'thread_id': '2', 'checkpoint_ns': '', 'checkpoint_id': '1f02fe50-3cd4-634e-bfff-6ba7f4e838a6'}}, tasks=(PregelTask(id='71b91af7-48f9-3baa-227e-3b0387f6bfc9', name='chatbot', path=('__pregel_pull', 'chatbot'), error=None, interrupts=(), state=None, result={'messages': [AIMessage(content='Hi! Nice to meet you. How can I help you today?', additional_kwargs={}, response_metadata={'id': 'msg_01R9R1ecDJ21NELrtZ9qTeQx', 'model': 'claude-3-5-sonnet-latest', 'stop_reason': 'end_turn', 'stop_sequence': None, 'usage': {'cache_creation_input_tokens': 0, 'cache_read_input_tokens': 0, 'input_tokens': 10, 'output_tokens': 17, 'server_tool_use': None}, 'model_name': 'claude-3-5-sonnet-latest'}, id='run--aaaf22ae-e80e-4e2b-958f-c5fbf7efc078-0', usage_metadata={'input_tokens': 10, 'output_tokens': 17, 'total_tokens': 27, 'input_token_details': {'cache_creation': 0, 'cache_read': 0}})]}),), interrupts=())\n",
      "StateSnapshot(values={'messages': []}, next=('__start__',), config={'configurable': {'thread_id': '2', 'checkpoint_ns': '', 'checkpoint_id': '1f02fe50-3cd4-634e-bfff-6ba7f4e838a6'}}, metadata={'source': 'input', 'writes': {'__start__': {'messages': [{'role': 'user', 'content': 'Hi Claude!'}]}}, 'step': -1, 'parents': {}, 'thread_id': '2'}, created_at='2025-05-13T10:28:30.628528+00:00', parent_config=None, tasks=(PregelTask(id='1ce22dbf-b035-cba1-2907-8d2d051dbd61', name='__start__', path=('__pregel_pull', '__start__'), error=None, interrupts=(), state=None, result={'messages': [{'role': 'user', 'content': 'Hi Claude!'}]}),), interrupts=())\n"
     ]
    }
   ],
   "source": [
    "for state in graph.get_state_history(config):\n",
    "    print(state)"
   ]
  },
  {
   "cell_type": "markdown",
   "metadata": {},
   "source": [
    "Every state has a `config` that contains information about the checkpoint id within the thread. For example, let's see the one from the first snapshot in the conversation (last one in the loop)."
   ]
  },
  {
   "cell_type": "code",
   "execution_count": null,
   "metadata": {},
   "outputs": [
    {
     "data": {
      "text/plain": [
       "{'configurable': {'thread_id': '2',\n",
       "  'checkpoint_ns': '',\n",
       "  'checkpoint_id': '1f02fe50-3cd4-634e-bfff-6ba7f4e838a6'}}"
      ]
     },
     "execution_count": null,
     "metadata": {},
     "output_type": "execute_result"
    }
   ],
   "source": [
    "state.config"
   ]
  },
  {
   "cell_type": "markdown",
   "metadata": {},
   "source": [
    "Furthermore, we can see what node will be executed next following a given state.\n",
    "In the case of the first snapshot in the empty conversation, we can expect the start node to be execute next."
   ]
  },
  {
   "cell_type": "code",
   "execution_count": null,
   "metadata": {},
   "outputs": [
    {
     "data": {
      "text/plain": [
       "('__start__',)"
      ]
     },
     "execution_count": null,
     "metadata": {},
     "output_type": "execute_result"
    }
   ],
   "source": [
    "state.next"
   ]
  },
  {
   "cell_type": "markdown",
   "metadata": {},
   "source": [
    "## Changing a previous interaction\n",
    "\n",
    "We can use the config from any snapshot in the history to branch off the conversation from that given point onwards.\n",
    "This allows us to explore different conversation paths and outcomes.\n",
    "For example, let's change the word we provided in the game.\n",
    "The word was the second-to-last interaction, so we need to branch off from the previous AI response."
   ]
  },
  {
   "cell_type": "code",
   "execution_count": null,
   "metadata": {},
   "outputs": [
    {
     "data": {
      "text/plain": [
       "AIMessage(content='Yes, that\\'s very clear! For example, if you give me the word \"CAT\", I would write:\\nC - Cheetah\\nA - Antelope\\nT - Tiger\\n\\nI\\'m ready for your word! What will it be?', additional_kwargs={}, response_metadata={'id': 'msg_01CQ7Auv12QUdZSphWfg3S53', 'model': 'claude-3-5-sonnet-latest', 'stop_reason': 'end_turn', 'stop_sequence': None, 'usage': {'cache_creation_input_tokens': 0, 'cache_read_input_tokens': 0, 'input_tokens': 99, 'output_tokens': 57, 'server_tool_use': None}, 'model_name': 'claude-3-5-sonnet-latest'}, id='run--d79981a1-de5c-4ac1-941b-64895e0ab7ba-0', usage_metadata={'input_tokens': 99, 'output_tokens': 57, 'total_tokens': 156, 'input_token_details': {'cache_creation': 0, 'cache_read': 0}})"
      ]
     },
     "execution_count": null,
     "metadata": {},
     "output_type": "execute_result"
    }
   ],
   "source": [
    "states = list(graph.get_state_history(config))\n",
    "to_replay = states[2]\n",
    "to_replay.values[\"messages\"][-1]  # Last message before providing the word"
   ]
  },
  {
   "cell_type": "markdown",
   "metadata": {},
   "source": [
    "Now, we just need to provide the config from the point we want to move on when we add a new message."
   ]
  },
  {
   "cell_type": "code",
   "execution_count": null,
   "metadata": {},
   "outputs": [
    {
     "name": "stdout",
     "output_type": "stream",
     "text": [
      "================================\u001b[1m Human Message \u001b[0m=================================\n",
      "\n",
      "dishwasher\n",
      "==================================\u001b[1m Ai Message \u001b[0m==================================\n",
      "\n",
      "Here are animals for each letter in \"dishwasher\":\n",
      "\n",
      "D - Dolphin\n",
      "I - Impala\n",
      "S - Salamander\n",
      "H - Hippopotamus\n",
      "W - Walrus\n",
      "A - Alligator\n",
      "S - Sloth\n",
      "H - Hawk\n",
      "E - Eagle\n",
      "R - Rhinoceros\n"
     ]
    }
   ],
   "source": [
    "new_user_input = \"dishwasher\"\n",
    "stream_message(new_user_input, to_replay.config)  # Use the branch off point config"
   ]
  },
  {
   "cell_type": "markdown",
   "metadata": {},
   "source": [
    "The chatbot is fully aware of the game we are playing and provided a correct response.\n",
    "The current state of the conversation contains the messages for this new \"branch\"."
   ]
  },
  {
   "cell_type": "code",
   "execution_count": null,
   "metadata": {},
   "outputs": [
    {
     "name": "stdout",
     "output_type": "stream",
     "text": [
      "================================\u001b[1m Human Message \u001b[0m=================================\n",
      "\n",
      "Hi Claude!\n",
      "==================================\u001b[1m Ai Message \u001b[0m==================================\n",
      "\n",
      "Hi! Nice to meet you. How can I help you today?\n",
      "================================\u001b[1m Human Message \u001b[0m=================================\n",
      "\n",
      "Let's play a little game. Would you like to?\n",
      "==================================\u001b[1m Ai Message \u001b[0m==================================\n",
      "\n",
      "Sure, I'd be happy to play a game with you! What kind of game did you have in mind?\n",
      "================================\u001b[1m Human Message \u001b[0m=================================\n",
      "\n",
      "Let me explain: I will provide a word and you write an animal name that starts with every letter of the word. Is it clear?\n",
      "==================================\u001b[1m Ai Message \u001b[0m==================================\n",
      "\n",
      "Yes, that's very clear! For example, if you give me the word \"CAT\", I would write:\n",
      "C - Cheetah\n",
      "A - Antelope\n",
      "T - Tiger\n",
      "\n",
      "I'm ready for your word! What will it be?\n",
      "================================\u001b[1m Human Message \u001b[0m=================================\n",
      "\n",
      "dishwasher\n",
      "==================================\u001b[1m Ai Message \u001b[0m==================================\n",
      "\n",
      "Here are animals for each letter in \"dishwasher\":\n",
      "\n",
      "D - Dolphin\n",
      "I - Impala\n",
      "S - Salamander\n",
      "H - Hippopotamus\n",
      "W - Walrus\n",
      "A - Alligator\n",
      "S - Sloth\n",
      "H - Hawk\n",
      "E - Eagle\n",
      "R - Rhinoceros\n"
     ]
    }
   ],
   "source": [
    "last_state = graph.get_state(config)\n",
    "for message in last_state.values[\"messages\"]:\n",
    "    message.pretty_print()"
   ]
  },
  {
   "cell_type": "markdown",
   "metadata": {},
   "source": [
    "## Regenerating a response\n",
    "\n",
    "We can ask the chatbot to repeat a response it previously provided in the same way that we have changed a message in the middle of the conversation.\n",
    "For example, we can ask it to regenerate the last message in this conversation.\n",
    "\n",
    "To do so, we need to start from our last message and let the chatbot do \"its thing\" by not providing a message."
   ]
  },
  {
   "cell_type": "code",
   "execution_count": null,
   "metadata": {},
   "outputs": [
    {
     "data": {
      "text/plain": [
       "HumanMessage(content='dishwasher', additional_kwargs={}, response_metadata={}, id='cc91bca4-b24d-4a08-b7ba-5474fefd3105')"
      ]
     },
     "execution_count": null,
     "metadata": {},
     "output_type": "execute_result"
    }
   ],
   "source": [
    "states = list(graph.get_state_history(config))\n",
    "to_replay = states[1]\n",
    "to_replay.values[\"messages\"][-1]  # Our last message"
   ]
  },
  {
   "cell_type": "code",
   "execution_count": null,
   "metadata": {},
   "outputs": [
    {
     "name": "stdout",
     "output_type": "stream",
     "text": [
      "================================\u001b[1m Human Message \u001b[0m=================================\n",
      "\n",
      "dishwasher\n",
      "==================================\u001b[1m Ai Message \u001b[0m==================================\n",
      "\n",
      "Here are animals for each letter in \"dishwasher\":\n",
      "\n",
      "D - Dolphin\n",
      "I - Iguana \n",
      "S - Sloth\n",
      "H - Hippopotamus\n",
      "W - Walrus\n",
      "A - Antelope\n",
      "S - Salamander\n",
      "H - Hedgehog\n",
      "E - Eagle\n",
      "R - Rhinoceros\n"
     ]
    }
   ],
   "source": [
    "events = graph.stream(None, to_replay.config, stream_mode=\"values\")  # No message\n",
    "for event in events:\n",
    "    event[\"messages\"][-1].pretty_print()"
   ]
  },
  {
   "cell_type": "markdown",
   "metadata": {},
   "source": [
    "The new conversation contains the regenerated response!"
   ]
  },
  {
   "cell_type": "code",
   "execution_count": null,
   "metadata": {},
   "outputs": [
    {
     "name": "stdout",
     "output_type": "stream",
     "text": [
      "================================\u001b[1m Human Message \u001b[0m=================================\n",
      "\n",
      "Hi Claude!\n",
      "==================================\u001b[1m Ai Message \u001b[0m==================================\n",
      "\n",
      "Hi! Nice to meet you. How can I help you today?\n",
      "================================\u001b[1m Human Message \u001b[0m=================================\n",
      "\n",
      "Let's play a little game. Would you like to?\n",
      "==================================\u001b[1m Ai Message \u001b[0m==================================\n",
      "\n",
      "Sure, I'd be happy to play a game with you! What kind of game did you have in mind?\n",
      "================================\u001b[1m Human Message \u001b[0m=================================\n",
      "\n",
      "Let me explain: I will provide a word and you write an animal name that starts with every letter of the word. Is it clear?\n",
      "==================================\u001b[1m Ai Message \u001b[0m==================================\n",
      "\n",
      "Yes, that's very clear! For example, if you give me the word \"CAT\", I would write:\n",
      "C - Cheetah\n",
      "A - Antelope\n",
      "T - Tiger\n",
      "\n",
      "I'm ready for your word! What will it be?\n",
      "================================\u001b[1m Human Message \u001b[0m=================================\n",
      "\n",
      "dishwasher\n",
      "==================================\u001b[1m Ai Message \u001b[0m==================================\n",
      "\n",
      "Here are animals for each letter in \"dishwasher\":\n",
      "\n",
      "D - Dolphin\n",
      "I - Iguana \n",
      "S - Sloth\n",
      "H - Hippopotamus\n",
      "W - Walrus\n",
      "A - Antelope\n",
      "S - Salamander\n",
      "H - Hedgehog\n",
      "E - Eagle\n",
      "R - Rhinoceros\n"
     ]
    }
   ],
   "source": [
    "last_state = graph.get_state(config)\n",
    "for message in last_state.values[\"messages\"]:\n",
    "    message.pretty_print()"
   ]
  }
 ],
 "metadata": {
  "kernelspec": {
   "display_name": "python3",
   "language": "python",
   "name": "python3"
  }
 },
 "nbformat": 4,
 "nbformat_minor": 2
}
