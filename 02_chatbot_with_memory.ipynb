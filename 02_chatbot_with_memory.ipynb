{
 "cells": [
  {
   "cell_type": "markdown",
   "metadata": {},
   "source": [
    "# Controlling the chatbot memory\n",
    "\n",
    "We follow the [langgraph tutorial](https://langchain-ai.github.io/langgraph/tutorials/introduction/) to learn the basics about memory by building a simple chatbot.\n",
    "\n",
    "So far, we have been prototyping chatbots that do not have any memory of previous messages in context.\n",
    "Here, we will explore how to keep a memory in two ways, and how to use it to rewind and branch off from different points in the conversation.\n",
    "\n",
    "# Build a basic chatbot\n",
    "\n",
    "By now, we know how to build a simple chatbot.\n",
    "We will keep it as simple as possible (without tools) to be able to focus on the memory part."
   ]
  },
  {
   "cell_type": "code",
   "execution_count": null,
   "metadata": {},
   "outputs": [],
   "source": [
    "from typing import Annotated\n",
    "\n",
    "from dotenv import load_dotenv\n",
    "from langchain.chat_models import init_chat_model\n",
    "from langgraph.graph import END, START, StateGraph\n",
    "from langgraph.graph.message import add_messages\n",
    "from typing_extensions import TypedDict\n",
    "\n",
    "from IPython.display import Image, display\n",
    "\n",
    "load_dotenv()\n",
    "llm = init_chat_model(model=\"anthropic:claude-3-5-sonnet-latest\")"
   ]
  },
  {
   "cell_type": "markdown",
   "metadata": {},
   "source": [
    "The graph will take a user input, pass it to the LLM, and directly return the response."
   ]
  },
  {
   "cell_type": "code",
   "execution_count": null,
   "metadata": {},
   "outputs": [
    {
     "data": {
      "image/png": "[encoded data removed]",
      "text/plain": [
       "<IPython.core.display.Image object>"
      ]
     },
     "metadata": {},
     "output_type": "display_data"
    }
   ],
   "source": [
    "class State(TypedDict):\n",
    "    # The state contains the message history: a list that we change with the add_messages function\n",
    "    # New messages are appended to the list, rather than replacing the previous ones.\n",
    "    messages: Annotated[list, add_messages]\n",
    "\n",
    "\n",
    "def chatbot(state: State) -> State:\n",
    "    return {\"messages\": [llm.invoke(state[\"messages\"])]}\n",
    "\n",
    "\n",
    "graph_builder = StateGraph(State)\n",
    "graph_builder.add_node(\"chatbot\", chatbot)\n",
    "graph_builder.add_edge(START, \"chatbot\")\n",
    "graph_builder.add_edge(\"chatbot\", END)\n",
    "\n",
    "graph = graph_builder.compile()\n",
    "\n",
    "display(Image(graph.get_graph().draw_mermaid_png()))"
   ]
  },
  {
   "cell_type": "markdown",
   "metadata": {},
   "source": [
    "# Manually handle the state\n",
    "\n",
    "The state contains the message history.\n",
    "The simplest way to implement a memory for our chatbot is by manually handling the state between interactions in our chat loop."
   ]
  },
  {
   "cell_type": "code",
   "execution_count": null,
   "metadata": {},
   "outputs": [
    {
     "name": "stdout",
     "output_type": "stream",
     "text": [
      "User: Hi, my name's Borja. Nice to meet you!\n",
      "Assistant: Hi Borja! Nice to meet you too! I'm Claude, an AI assistant created by Anthropic. How can I help you today?\n",
      "\n",
      "\n",
      "User: Could you write a word starting with every letter in my name?\n",
      "Assistant: Here are words starting with each letter in \"BORJA\":\n",
      "\n",
      "B - Beautiful\n",
      "O - Organic\n",
      "R - Radiant\n",
      "J - Jovial\n",
      "A - Adventurous\n",
      "\n",
      "\n",
      "User: Thanks, that was great!\n",
      "Assistant: You're welcome, Borja! Glad I could help! Let me know if you'd like to try anything else 😊\n",
      "\n",
      "\n",
      "Goodbye!\n"
     ]
    }
   ],
   "source": [
    "state = {\"messages\": []}\n",
    "\n",
    "while True:\n",
    "    user_input = input(\"User: \")\n",
    "    if user_input.lower() in [\"quit\", \"exit\", \"q\"]:\n",
    "        print(\"Goodbye!\")\n",
    "        break\n",
    "\n",
    "    state[\"messages\"] = state.get(\"messages\", []) + [{\"role\": \"user\", \"content\": user_input}]\n",
    "    state = graph.invoke(state)\n",
    "\n",
    "    print(\"User:\", user_input)\n",
    "    if state.get(\"messages\") and len(state[\"messages\"]) > 0:\n",
    "        print(\"Assistant:\", state[\"messages\"][-1].content)  # Print the last message\n",
    "        print(\"\\n\")"
   ]
  },
  {
   "cell_type": "markdown",
   "metadata": {},
   "source": [
    "In every pass of the loop, we add the user input to the current state, and then get the new state by invoking the graph.\n",
    "This allows the LLM to keep the previous interactions in context and have a coherent conversation.\n",
    "In this case, we first give the chatbot a name, and then ask it to perform a task with the name without repeating it.\n",
    "Without a memory, the task would be impossible to do!"
   ]
  },
  {
   "cell_type": "markdown",
   "metadata": {},
   "source": [
    "# Checkpointing\n",
    "\n",
    "LangGraph offers functionality to checkpoint the state at every step in the conversation.\n",
    "To do so, we need to provide a `checkpointer` when compiling the graph, as well as an ID for the thread when calling it.\n",
    "\n",
    "Checkpointing this way is much more powerful than simply keeping a chat memory.\n",
    "It will allow us to move freely along the conversation, restart it from any given point, branch off separate threads, etc."
   ]
  },
  {
   "cell_type": "code",
   "execution_count": null,
   "metadata": {},
   "outputs": [],
   "source": [
    "from langgraph.checkpoint.memory import MemorySaver  # noqa: E402\n",
    "\n",
    "memory = MemorySaver()\n",
    "# This memory saver keeps the checkpointing in memory. In production, we'd use\n",
    "# a checkpointer that connects to a database.\n",
    "\n",
    "graph = graph_builder.compile(checkpointer=memory)  # Compile the graph with a checkpointer"
   ]
  },
  {
   "cell_type": "markdown",
   "metadata": {},
   "source": [
    "Now to use this graph, we need to provide it with a configuration that contains the thread ID.\n",
    "**The thread ID should be a string!!!**\n",
    "Apparently, it is converted into string internally and we may get unexpected behaviours with mismatching namespaces."
   ]
  },
  {
   "cell_type": "code",
   "execution_count": null,
   "metadata": {},
   "outputs": [],
   "source": [
    "config = {\"configurable\": {\"thread_id\": \"0\"}}"
   ]
  },
  {
   "cell_type": "markdown",
   "metadata": {},
   "source": [
    "Let's check how it works!"
   ]
  },
  {
   "cell_type": "code",
   "execution_count": null,
   "metadata": {},
   "outputs": [
    {
     "name": "stdout",
     "output_type": "stream",
     "text": [
      "================================\u001b[1m Human Message \u001b[0m=================================\n",
      "\n",
      "Hi, my name's Borja. Nice to meet you!\n",
      "==================================\u001b[1m Ai Message \u001b[0m==================================\n",
      "\n",
      "Hi Borja! Nice to meet you too! I'm Claude, an AI assistant. How can I help you today?\n",
      "\n",
      "\n",
      "================================\u001b[1m Human Message \u001b[0m=================================\n",
      "\n",
      "Could you write a word starting with every letter in my name?\n",
      "==================================\u001b[1m Ai Message \u001b[0m==================================\n",
      "\n",
      "I'll write a word for each letter in \"BORJA\":\n",
      "\n",
      "B - Beautiful\n",
      "O - Ocean\n",
      "R - Rainbow\n",
      "J - Journey\n",
      "A - Adventure\n",
      "\n",
      "\n",
      "================================\u001b[1m Human Message \u001b[0m=================================\n",
      "\n",
      "Thanks, that was great!\n",
      "==================================\u001b[1m Ai Message \u001b[0m==================================\n",
      "\n",
      "You're welcome, Borja! That was a fun exercise! Let me know if you'd like to try something else. 😊\n",
      "\n",
      "\n",
      "Goodbye!\n"
     ]
    }
   ],
   "source": [
    "while True:\n",
    "    user_input = input(\"User: \")\n",
    "    # Terminate the conversation with quit, exit or q\n",
    "    if user_input.lower() in [\"quit\", \"exit\", \"q\"]:\n",
    "        print(\"Goodbye!\")\n",
    "        break\n",
    "\n",
    "    events = graph.stream(\n",
    "        {\"messages\": [{\"role\": \"user\", \"content\": user_input}]}, config, stream_mode=\"values\"\n",
    "    )\n",
    "    for event in events:\n",
    "        event[\"messages\"][-1].pretty_print()"
   ]
  },
  {
   "cell_type": "code",
   "execution_count": null,
   "metadata": {},
   "outputs": [
    {
     "name": "stdout",
     "output_type": "stream",
     "text": [
      "================================\u001b[1m Human Message \u001b[0m=================================\n",
      "\n",
      "Hi, my name's Borja. Nice to meet you!\n",
      "==================================\u001b[1m Ai Message \u001b[0m==================================\n",
      "\n",
      "Hi Borja! Nice to meet you too! I'm an AI assistant. How can I help you today?\n",
      "================================\u001b[1m Human Message \u001b[0m=================================\n",
      "\n",
      "Could you write a word starting with every letter in my name?\n",
      "==================================\u001b[1m Ai Message \u001b[0m==================================\n",
      "\n",
      "Here are words starting with each letter in \"BORJA\":\n",
      "\n",
      "B - Beautiful\n",
      "O - Ocean\n",
      "R - Rainbow\n",
      "J - Journey\n",
      "A - Adventure\n",
      "================================\u001b[1m Human Message \u001b[0m=================================\n",
      "\n",
      "Thanks, that was great!\n",
      "==================================\u001b[1m Ai Message \u001b[0m==================================\n",
      "\n",
      "You're welcome, Borja! Glad I could help! Let me know if you need anything else 😊\n",
      "Goodbye!\n"
     ]
    }
   ],
   "source": [
    "while True:\n",
    "    user_input = input(\"User: \")\n",
    "    # Terminate the conversation with quit, exit or q\n",
    "    if user_input.lower() in [\"quit\", \"exit\", \"q\"]:\n",
    "        print(\"Goodbye!\")\n",
    "        break\n",
    "\n",
    "    events = graph.stream(\n",
    "        {\"messages\": [{\"role\": \"user\", \"content\": user_input}]}, config, stream_mode=\"values\"\n",
    "    )\n",
    "    for event in events:\n",
    "        event[\"messages\"][-1].pretty_print()"
   ]
  },
  {
   "cell_type": "markdown",
   "metadata": {},
   "source": [
    "Great! We see the information about the name is kept across interactions.\n",
    "\n",
    "\n",
    "## Switching threads\n",
    "\n",
    "Let's try now creating a new thread.\n",
    "New threads will be fresh conversations, and the previously checkpointed ones will be preserved.\n",
    "Let's see the effect by asking the chatbot about the name we gave it. "
   ]
  },
  {
   "cell_type": "code",
   "execution_count": null,
   "metadata": {},
   "outputs": [],
   "source": [
    "question = \"What is my name?\""
   ]
  },
  {
   "cell_type": "markdown",
   "metadata": {},
   "source": [
    "In the new thread, the chatbot has no context."
   ]
  },
  {
   "cell_type": "code",
   "execution_count": null,
   "metadata": {},
   "outputs": [
    {
     "name": "stdout",
     "output_type": "stream",
     "text": [
      "================================\u001b[1m Human Message \u001b[0m=================================\n",
      "\n",
      "What is my name?\n",
      "==================================\u001b[1m Ai Message \u001b[0m==================================\n",
      "\n",
      "I don't know your name. You haven't shared it with me. Would you like to tell me your name?\n"
     ]
    }
   ],
   "source": [
    "other_config = {\"configurable\": {\"thread_id\": \"1\"}}  # Other thread\n",
    "\n",
    "events = graph.stream(\n",
    "    {\"messages\": [{\"role\": \"user\", \"content\": question}]}, other_config, stream_mode=\"values\"\n",
    ")\n",
    "\n",
    "for event in events:\n",
    "    event[\"messages\"][-1].pretty_print()"
   ]
  },
  {
   "cell_type": "markdown",
   "metadata": {},
   "source": [
    "In the original thread, the question is answered without a problem."
   ]
  },
  {
   "cell_type": "code",
   "execution_count": null,
   "metadata": {},
   "outputs": [
    {
     "name": "stdout",
     "output_type": "stream",
     "text": [
      "================================\u001b[1m Human Message \u001b[0m=================================\n",
      "\n",
      "What is my name?\n",
      "==================================\u001b[1m Ai Message \u001b[0m==================================\n",
      "\n",
      "Your name is Borja.\n"
     ]
    }
   ],
   "source": [
    "events = graph.stream(\n",
    "    {\"messages\": [{\"role\": \"user\", \"content\": question}]},\n",
    "    config,  # Back to the same thread\n",
    "    stream_mode=\"values\",\n",
    ")\n",
    "\n",
    "for event in events:\n",
    "    event[\"messages\"][-1].pretty_print()"
   ]
  },
  {
   "cell_type": "markdown",
   "metadata": {},
   "source": [
    "## Checkpoints\n",
    "\n",
    "What exactly are checkpoints?\n",
    "We can inspect the graph's state for a given config (specific thread).\n",
    "Let's look at the main thread's state."
   ]
  },
  {
   "cell_type": "code",
   "execution_count": null,
   "metadata": {},
   "outputs": [
    {
     "data": {
      "text/plain": [
       "StateSnapshot(values={'messages': [HumanMessage(content=\"Hi, my name's Borja. Nice to meet you!\", additional_kwargs={}, response_metadata={}, id='bd3b692c-0908-4de9-819f-65d9f14460e1'), AIMessage(content=\"Hi Borja! Nice to meet you too! I'm an AI assistant. How can I help you today?\", additional_kwargs={}, response_metadata={'id': 'msg_017AbgQfaVPG4DUzc63eZ5hN', 'model': 'claude-3-5-sonnet-20241022', 'stop_reason': 'end_turn', 'stop_sequence': None, 'usage': {'cache_creation_input_tokens': 0, 'cache_read_input_tokens': 0, 'input_tokens': 21, 'output_tokens': 27, 'server_tool_use': None}, 'model_name': 'claude-3-5-sonnet-20241022'}, id='run--e6f74635-81ca-493b-a3ef-3721ea117206-0', usage_metadata={'input_tokens': 21, 'output_tokens': 27, 'total_tokens': 48, 'input_token_details': {'cache_creation': 0, 'cache_read': 0}}), HumanMessage(content='Could you write a word starting with every letter in my name?', additional_kwargs={}, response_metadata={}, id='62f726a3-6b76-46b5-8d86-cb01a7bce008'), AIMessage(content='Here are words starting with each letter in \"BORJA\":\\n\\nB - Beautiful\\nO - Ocean\\nR - Rainbow\\nJ - Journey\\nA - Adventure', additional_kwargs={}, response_metadata={'id': 'msg_019F99415KVpQEztsU6H6nuG', 'model': 'claude-3-5-sonnet-20241022', 'stop_reason': 'end_turn', 'stop_sequence': None, 'usage': {'cache_creation_input_tokens': 0, 'cache_read_input_tokens': 0, 'input_tokens': 64, 'output_tokens': 36, 'server_tool_use': None}, 'model_name': 'claude-3-5-sonnet-20241022'}, id='run--9b7b07e6-c923-4e4c-aa9d-f3e56711dc92-0', usage_metadata={'input_tokens': 64, 'output_tokens': 36, 'total_tokens': 100, 'input_token_details': {'cache_creation': 0, 'cache_read': 0}}), HumanMessage(content='Thanks, that was great!', additional_kwargs={}, response_metadata={}, id='159f735c-3548-4b75-8ef3-4636cc440170'), AIMessage(content=\"You're welcome, Borja! Glad I could help! Let me know if you need anything else 😊\", additional_kwargs={}, response_metadata={'id': 'msg_01DH3eFErfYdpATv3rXUamXQ', 'model': 'claude-3-5-sonnet-20241022', 'stop_reason': 'end_turn', 'stop_sequence': None, 'usage': {'cache_creation_input_tokens': 0, 'cache_read_input_tokens': 0, 'input_tokens': 109, 'output_tokens': 28, 'server_tool_use': None}, 'model_name': 'claude-3-5-sonnet-20241022'}, id='run--5eeedb41-5c70-4de4-ba73-ce328f646f50-0', usage_metadata={'input_tokens': 109, 'output_tokens': 28, 'total_tokens': 137, 'input_token_details': {'cache_creation': 0, 'cache_read': 0}}), HumanMessage(content='What is my name?', additional_kwargs={}, response_metadata={}, id='d9ef960a-790f-43b8-bf19-f24e855ecb3f'), AIMessage(content='Your name is Borja.', additional_kwargs={}, response_metadata={'id': 'msg_016ZbSKcdJYLwEo8ps8VeDxR', 'model': 'claude-3-5-sonnet-20241022', 'stop_reason': 'end_turn', 'stop_sequence': None, 'usage': {'cache_creation_input_tokens': 0, 'cache_read_input_tokens': 0, 'input_tokens': 145, 'output_tokens': 10, 'server_tool_use': None}, 'model_name': 'claude-3-5-sonnet-20241022'}, id='run--1d7cdd08-92a6-4110-8944-1d842884ee3e-0', usage_metadata={'input_tokens': 145, 'output_tokens': 10, 'total_tokens': 155, 'input_token_details': {'cache_creation': 0, 'cache_read': 0}})]}, next=(), config={'configurable': {'thread_id': '0', 'checkpoint_ns': '', 'checkpoint_id': '1f02f1e7-0954-61d8-800a-c59cc702ebcf'}}, metadata={'source': 'loop', 'writes': {'chatbot': {'messages': [AIMessage(content='Your name is Borja.', additional_kwargs={}, response_metadata={'id': 'msg_016ZbSKcdJYLwEo8ps8VeDxR', 'model': 'claude-3-5-sonnet-20241022', 'stop_reason': 'end_turn', 'stop_sequence': None, 'usage': {'cache_creation_input_tokens': 0, 'cache_read_input_tokens': 0, 'input_tokens': 145, 'output_tokens': 10, 'server_tool_use': None}, 'model_name': 'claude-3-5-sonnet-20241022'}, id='run--1d7cdd08-92a6-4110-8944-1d842884ee3e-0', usage_metadata={'input_tokens': 145, 'output_tokens': 10, 'total_tokens': 155, 'input_token_details': {'cache_creation': 0, 'cache_read': 0}})]}}, 'step': 10, 'parents': {}, 'thread_id': '0'}, created_at='2025-05-12T10:47:03.283917+00:00', parent_config={'configurable': {'thread_id': '0', 'checkpoint_ns': '', 'checkpoint_id': '1f02f1e6-e85d-67c2-8009-e8575318eaee'}}, tasks=(), interrupts=())"
      ]
     },
     "execution_count": null,
     "metadata": {},
     "output_type": "execute_result"
    }
   ],
   "source": [
    "snapshot = graph.get_state(config)\n",
    "snapshot"
   ]
  },
  {
   "cell_type": "markdown",
   "metadata": {},
   "source": [
    "The checkpoint contains the full history of our interactions.\n",
    "For example, we can print the full conversation even though it has been created in two separate sessions."
   ]
  },
  {
   "cell_type": "code",
   "execution_count": null,
   "metadata": {},
   "outputs": [
    {
     "name": "stdout",
     "output_type": "stream",
     "text": [
      "================================\u001b[1m Human Message \u001b[0m=================================\n",
      "\n",
      "Hi, my name's Borja. Nice to meet you!\n",
      "==================================\u001b[1m Ai Message \u001b[0m==================================\n",
      "\n",
      "Hi Borja! Nice to meet you too! I'm an AI assistant. How can I help you today?\n",
      "================================\u001b[1m Human Message \u001b[0m=================================\n",
      "\n",
      "Could you write a word starting with every letter in my name?\n",
      "==================================\u001b[1m Ai Message \u001b[0m==================================\n",
      "\n",
      "Here are words starting with each letter in \"BORJA\":\n",
      "\n",
      "B - Beautiful\n",
      "O - Ocean\n",
      "R - Rainbow\n",
      "J - Journey\n",
      "A - Adventure\n",
      "================================\u001b[1m Human Message \u001b[0m=================================\n",
      "\n",
      "Thanks, that was great!\n",
      "==================================\u001b[1m Ai Message \u001b[0m==================================\n",
      "\n",
      "You're welcome, Borja! Glad I could help! Let me know if you need anything else 😊\n",
      "================================\u001b[1m Human Message \u001b[0m=================================\n",
      "\n",
      "What is my name?\n",
      "==================================\u001b[1m Ai Message \u001b[0m==================================\n",
      "\n",
      "Your name is Borja.\n"
     ]
    }
   ],
   "source": [
    "for message in snapshot.values[\"messages\"]:\n",
    "    message.pretty_print()"
   ]
  }
 ],
 "metadata": {
  "kernelspec": {
   "display_name": "python3",
   "language": "python",
   "name": "python3"
  }
 },
 "nbformat": 4,
 "nbformat_minor": 2
}
