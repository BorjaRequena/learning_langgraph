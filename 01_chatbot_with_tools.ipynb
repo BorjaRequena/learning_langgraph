{
 "cells": [
  {
   "cell_type": "markdown",
   "metadata": {},
   "source": [
    "# Simple chatbot with tools\n",
    "\n",
    "We follow the [langgraph tutorial](https://langchain-ai.github.io/langgraph/tutorials/introduction/) to learn the basics by building a simple chatbot that can use simple tools.\n",
    "\n",
    "## Get an LLM\n",
    "\n",
    "To build a chatbot, we will need to use an LLM.\n",
    "We follow the same steps as in the previous notebook."
   ]
  },
  {
   "cell_type": "code",
   "execution_count": null,
   "metadata": {},
   "outputs": [],
   "source": [
    "from typing import Annotated\n",
    "\n",
    "from dotenv import load_dotenv\n",
    "from langchain.chat_models import init_chat_model\n",
    "from langgraph.graph import START, StateGraph\n",
    "from langgraph.graph.message import add_messages\n",
    "from typing_extensions import TypedDict\n",
    "\n",
    "load_dotenv()\n",
    "llm = init_chat_model(model=\"anthropic:claude-3-5-sonnet-latest\")"
   ]
  },
  {
   "cell_type": "markdown",
   "metadata": {},
   "source": [
    "# Define the state\n",
    "\n",
    "The state of the chatbot will be the message history in the conversation, just like in the simple chatbot we built before."
   ]
  },
  {
   "cell_type": "code",
   "execution_count": null,
   "metadata": {},
   "outputs": [],
   "source": [
    "class State(TypedDict):\n",
    "    # The state contains the message history: a list that we change with the add_messages function\n",
    "    # New messages are appended to the list, rather than replacing the previous ones.\n",
    "    messages: Annotated[list, add_messages]"
   ]
  },
  {
   "cell_type": "markdown",
   "metadata": {},
   "source": [
    "## Create the tool\n",
    "\n",
    "We will use the [tavily search engine](https://python.langchain.com/docs/integrations/tools/tavily_search/) tool.\n",
    "This will require installing the `langchain-tavily` package and getting an API key from their [search API](https://tavily.com).\n",
    "They provide a plan with free monthly credits for researchers that does not require credit card, so it's great to learn! :D\n",
    "The key will need to be stored as the environment variable `TAVILY_API_KEY` in the `.env` file together with the Anthropic API key.\n",
    "These environment variables are loaded in the first cell of this notebook, so run it again in case you need to.\n",
    "\n",
    "Let's define and test the tool."
   ]
  },
  {
   "cell_type": "code",
   "execution_count": null,
   "metadata": {},
   "outputs": [
    {
     "data": {
      "text/plain": [
       "{'query': 'What is the average weight of a red panda?',\n",
       " 'follow_up_questions': None,\n",
       " 'answer': None,\n",
       " 'images': [],\n",
       " 'results': [{'url': 'https://redpandanetwork.org/red-panda-facts',\n",
       "   'title': 'Red Panda Facts',\n",
       "   'content': '... red pandas averages 56 to 63 cm (22 to 25 in), and their tails about 37 to 47 cm (15 to 19 in). Female Ailurus fulgens fulgens weigh 3-4.5 kg ( 6-10 lbs) on',\n",
       "   'score': 0.9100432,\n",
       "   'raw_content': None},\n",
       "  {'url': 'https://en.wikipedia.org/wiki/Red_panda',\n",
       "   'title': 'Red panda - Wikipedia',\n",
       "   'content': 'The author of the study considered the red panda to be more closely related to bears.[11] A 1995 mitochondrial DNA analysis revealed that the red panda has close affinities with procyonids.[15] Further genetic studies in 2005, 2018 and 2021 have placed the red panda within the clade Musteloidea, which also includes Procyonidae, Mustelidae (weasels and relatives) and Mephitidae (skunks and relatives).[16][17][18] The tooth shows both ancestral and new characteristics having a relatively low and simple crown but also a lengthened crushing surface with developed tooth cusps like later species.[21] Later ailurines include Pristinailurus bristoli which lived in eastern North America from the late Miocene to the Early Pliocene[21][22] and species of the genus Parailurus which first appear in Early Pliocene Europe, spreading across Eurasia into North America.[21][23] These animals are classified as a sister taxon to the lineage of the modern red panda.',\n",
       "   'score': 0.16242018,\n",
       "   'raw_content': None}],\n",
       " 'response_time': 10.92}"
      ]
     },
     "execution_count": null,
     "metadata": {},
     "output_type": "execute_result"
    }
   ],
   "source": [
    "from langchain_tavily import TavilySearch\n",
    "\n",
    "tool_search = TavilySearch(max_results=2)\n",
    "tool_search.invoke(\"What is the average weight of a red panda?\")"
   ]
  },
  {
   "cell_type": "markdown",
   "metadata": {},
   "source": [
    "The tool provides webpage summaries that can be used then to address the tasks that we may give our agents."
   ]
  },
  {
   "cell_type": "markdown",
   "metadata": {},
   "source": [
    "## Build the chatbot\n",
    "\n",
    "Besides defining the graph, we need to provide the LLM with the tools that will be used.\n",
    "Additionally, we will need to make a new node to use the tool."
   ]
  },
  {
   "cell_type": "code",
   "execution_count": null,
   "metadata": {},
   "outputs": [],
   "source": [
    "from langgraph.prebuilt import ToolNode, tools_condition  # noqa: E402\n",
    "\n",
    "llm_with_tools = llm.bind_tools([tool_search])  # Provide the list of available tools\n",
    "\n",
    "\n",
    "# Define the main nodes\n",
    "def chatbot(state: State) -> State:\n",
    "    return {\"messages\": [llm_with_tools.invoke(state[\"messages\"])]}\n",
    "\n",
    "\n",
    "tool_node_search = ToolNode([tool_search])"
   ]
  },
  {
   "cell_type": "markdown",
   "metadata": {},
   "source": [
    "With the tools and the nodes defined, we can now build the graph.\n",
    "In this case, we will need to use a _conditional edge_ that will connect the chatbot node to the tool use or the end depending on the state.\n",
    "To keep it simple, we will use the prebuilt `tools_condition` function that will do exactly that.\n",
    "\n",
    "In general, we are not strictly constrained to condition only between tools and end.\n",
    "We can add conditional edges between any arbitrary nodes!"
   ]
  },
  {
   "cell_type": "code",
   "execution_count": null,
   "metadata": {},
   "outputs": [],
   "source": [
    "graph_builder = StateGraph(State)\n",
    "\n",
    "graph_builder.add_node(\"chatbot\", chatbot)\n",
    "graph_builder.add_node(\"tools\", tool_node_search)\n",
    "\n",
    "graph_builder.add_edge(START, \"chatbot\")\n",
    "graph_builder.add_conditional_edges(\"chatbot\", tools_condition)  # Route to tools or END\n",
    "graph_builder.add_edge(\"tools\", \"chatbot\")\n",
    "\n",
    "graph = graph_builder.compile()"
   ]
  },
  {
   "cell_type": "markdown",
   "metadata": {},
   "source": [
    "Let's see how the graph looks like!"
   ]
  },
  {
   "cell_type": "code",
   "execution_count": null,
   "metadata": {},
   "outputs": [
    {
     "data": {
      "image/png": "[encoded data removed]",
      "text/plain": [
       "<IPython.core.display.Image object>"
      ]
     },
     "metadata": {},
     "output_type": "display_data"
    }
   ],
   "source": [
    "# Visualize the graph\n",
    "from IPython.display import Image, display  # noqa: E402\n",
    "\n",
    "display(Image(graph.get_graph().draw_mermaid_png()))"
   ]
  },
  {
   "cell_type": "markdown",
   "metadata": {},
   "source": [
    "In this system, the agent receives an input and it can either respond immediately or call a tool before doing so."
   ]
  },
  {
   "cell_type": "markdown",
   "metadata": {},
   "source": [
    "## Running the \n",
    "\n",
    "Let's have a conversation!"
   ]
  },
  {
   "cell_type": "code",
   "execution_count": null,
   "metadata": {},
   "outputs": [
    {
     "name": "stdout",
     "output_type": "stream",
     "text": [
      "User: Can you tell me what were the changes introduced in the latest langgraph release?\n",
      "Assistant: [{'text': \"I'll search for information about the latest langgraph release and its changes.\", 'type': 'text'}, {'id': 'toolu_01KxFq74PEd7SgUbQjrGmurV', 'input': {'query': 'latest langgraph release changes github changelog', 'time_range': 'week'}, 'name': 'tavily_search', 'type': 'tool_use'}]\n",
      "Assistant: {\"query\": \"latest langgraph release changes github changelog\", \"follow_up_questions\": null, \"answer\": null, \"images\": [], \"results\": [{\"title\": \"langgraph-server · GitHub Topics · GitHub\", \"url\": \"https://github.com/topics/langgraph-server\", \"content\": \"GitHub is where people build software. More than 150 million people use GitHub to discover, fork, and contribute to over 420 million projects. ... Manage code changes Discussions. Collaborate outside of code Code Search. Find more, search less ... 🚀LangGraph Deployment Kit is a framework for building, deploying, and running LangGraph-based\", \"score\": 0.34026647, \"raw_content\": null}, {\"title\": \"Improvements to Changelog experience - GitHub Changelog - The GitHub Blog\", \"url\": \"https://github.blog/changelog/2025-05-05-improvements-to-changelog-experience/\", \"content\": \"The overall look and feel of the UI now more closely mirrors your experience on github.com. New posts are categorized into one of three categories: new release, improvements, or retired. All posts are now grouped into a new set of 12 curated tags you can use as filters to see changes by that product area.\", \"score\": 0.22906101, \"raw_content\": null}], \"response_time\": 1.75}\n",
      "Assistant: [{'text': 'Let me try another search to get more specific information.', 'type': 'text'}, {'id': 'toolu_01GB29uNH7nNTtreb5K82B1o', 'input': {'query': 'langgraph python library latest version changes', 'time_range': 'month'}, 'name': 'tavily_search', 'type': 'tool_use'}]\n",
      "Assistant: {\"query\": \"langgraph python library latest version changes\", \"follow_up_questions\": null, \"answer\": null, \"images\": [], \"results\": [{\"title\": \"langgraph-checkpoint · PyPI\", \"url\": \"https://pypi.org/project/langgraph-checkpoint/\", \"content\": \"Library with base interfaces for LangGraph checkpoint savers. ... Latest version. Released: Apr 26, 2025 Library with base interfaces for LangGraph checkpoint savers. ... Developed and maintained by the Python community, for the Python community. Donate today! \\\"PyPI\\\",\", \"score\": 0.86108357, \"raw_content\": null}, {\"title\": \"langgraph - PyPI\", \"url\": \"https://pypi.org/project/langgraph/\", \"content\": \"Latest version. Released: Apr 30, 2025 Building stateful, multi-actor applications with LLMs. Navigation. ... Help us Power Python and PyPI by joining in our end-of-year fundraiser. Every member and dollar makes a difference! ... LangGraph is a library for building stateful, multi-actor applications with LLMs, used to create agent and multi\", \"score\": 0.829285, \"raw_content\": null}], \"response_time\": 1.68}\n",
      "Assistant: [{'text': 'Let me try one more specific search to find the changelog or release notes.', 'type': 'text'}, {'id': 'toolu_01DbjdEYGEdZVkfNQ7MNB2zE', 'input': {'query': 'langgraph github changelog release notes latest version'}, 'name': 'tavily_search', 'type': 'tool_use'}]\n",
      "Assistant: {\"query\": \"langgraph github changelog release notes latest version\", \"follow_up_questions\": null, \"answer\": null, \"images\": [], \"results\": [{\"title\": \"Releases · langchain-ai/langgraph - GitHub\", \"url\": \"https://github.com/langchain-ai/langgraph/releases\", \"content\": \"langgraph-sdk 0.1.66 Summary of Changes. Added checkpoint_during parameter to client methods, providing control over when checkpoints are created during graph execution (); Detailed Changes Client Methods (stream, create, wait, create_for_thread) Added new optional parameter checkpoint_during: Optional[bool] to control whether checkpointing happens during graph execution or only at the end\", \"score\": 0.75268626, \"raw_content\": null}, {\"title\": \"LangChain - Changelog\", \"url\": \"https://changelog.langchain.com/\", \"content\": \"Check out the latest product updates on the LangChain LaunchNotes page. Products. ... Retrieval Agents Evaluation. Resources. Blog Case Studies LangChain Academy Community Experts Changelog. Docs. Python. LangChain LangSmith LangGraph. JavaScript. LangChain LangSmith LangGraph. Company. ... Just shipped LangGraph v0.4! This release brings major\", \"score\": 0.73891455, \"raw_content\": null}], \"response_time\": 3.95}\n",
      "Assistant: Based on the search results, I can tell you about the latest changes in LangGraph. The most recent significant release found in the search results is langgraph-sdk 0.1.66, which introduced the following changes:\n",
      "\n",
      "1. Added a new `checkpoint_during` parameter to client methods\n",
      "2. This new parameter provides control over when checkpoints are created during graph execution\n",
      "3. The `checkpoint_during` parameter is optional (type: Optional[bool]) and can be used to control whether checkpointing happens during graph execution or only at the end\n",
      "\n",
      "The parameter has been added to several client methods including:\n",
      "- stream\n",
      "- create\n",
      "- wait\n",
      "- create_for_thread\n",
      "\n",
      "This update appears to focus on improving the flexibility of the checkpointing system in LangGraph, allowing developers more control over when and how checkpoints are created during graph execution.\n",
      "\n",
      "It's worth noting that LangGraph is a library designed for building stateful, multi-actor applications with LLMs, and these changes seem to enhance its state management capabilities.\n",
      "\n",
      "\n",
      "User: Thanks, that was very helpful!\n",
      "Assistant: I notice this is your first message in our conversation, so I'm not sure what previous information you're referring to as helpful. Could you please:\n",
      "\n",
      "1. Let me know what specific information was helpful, and\n",
      "2. Share what questions or topics you'd like to explore next?\n",
      "\n",
      "This will help me provide better assistance and make appropriate use of the available tools.\n",
      "\n",
      "\n",
      "Goodbye!\n"
     ]
    }
   ],
   "source": [
    "def stream_graph_updates(user_input: str):\n",
    "    print(\"User:\", user_input)\n",
    "    for event in graph.stream({\"messages\": [{\"role\": \"user\", \"content\": user_input}]}):\n",
    "        for value in event.values():\n",
    "            print(\"Assistant:\", value[\"messages\"][-1].content)\n",
    "    print(\"\\n\")\n",
    "\n",
    "\n",
    "while True:\n",
    "    user_input = input(\"User: \")\n",
    "    # Terminate the conversation with quit, exit or q\n",
    "    if user_input.lower() in [\"quit\", \"exit\", \"q\"]:\n",
    "        print(\"Goodbye!\")\n",
    "        break\n",
    "    stream_graph_updates(user_input)"
   ]
  },
  {
   "cell_type": "markdown",
   "metadata": {},
   "source": [
    "Works great! We can see here the LLM performed a few internet searches before providing the response to the user.\n",
    "\n",
    "As a side note, our chatbot currently operates in a single-shot fashion where every user input is effectively a new conversation.\n",
    "This is evidenced in the conversation above, where after thanking the chatbot it replied by admitting this was the first message in the conversation and had no idea what we were talking about before.\n",
    "Typically, the user wants to have a few interactions and go back and forth with the chatbot.\n",
    "We will see how to preserve context in the following notebook."
   ]
  }
 ],
 "metadata": {
  "kernelspec": {
   "display_name": "python3",
   "language": "python",
   "name": "python3"
  }
 },
 "nbformat": 4,
 "nbformat_minor": 2
}
