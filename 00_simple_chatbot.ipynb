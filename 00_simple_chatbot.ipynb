{
 "cells": [
  {
   "cell_type": "markdown",
   "metadata": {},
   "source": [
    "# Simple chatbot\n",
    "\n",
    "We follow the [langgraph tutorial](https://langchain-ai.github.io/langgraph/tutorials/introduction/) to learn the basics by building a simple chatbot.\n",
    "\n",
    "## Get an LLM\n",
    "\n",
    "Building a chatbot will require having access to an LLM provider such as Anthropic or OpenAI, or running a local Llama model.\n",
    "Here, we will go with Anthropic.\n",
    "We have defined the environment variable `\"ANTHROPIC_API_KEY\"` in the `.env` file thta we load right below."
   ]
  },
  {
   "cell_type": "code",
   "execution_count": null,
   "metadata": {},
   "outputs": [],
   "source": [
    "from dotenv import load_dotenv\n",
    "from typing import Annotated, Literal\n",
    "\n",
    "from langgraph.graph import StateGraph, START, END\n",
    "from langgraph.graph.message import add_messages\n",
    "from langchain.chat_models import init_chat_model\n",
    "from pydantic import BaseModel, Field\n",
    "from typing_extensions import TypedDict\n",
    "\n",
    "\n",
    "load_dotenv()\n",
    "llm = init_chat_model(model=\"anthropic:claude-3-5-sonnet-latest\")"
   ]
  },
  {
   "cell_type": "markdown",
   "metadata": {},
   "source": [
    "# Define the state\n",
    "\n",
    "In langgraph, we build workflows whose structure is represented by a graph (who would've guessed?).\n",
    "The graph defines the flow of our system's _state_, where the nodes are functions that transform the state, and the edges specify how the state is passed between these functions.\n",
    "\n",
    "Let's start by defining the state.\n",
    "In this simple chatbot, the state contains the history of messages."
   ]
  },
  {
   "cell_type": "code",
   "execution_count": null,
   "metadata": {},
   "outputs": [],
   "source": [
    "class State(TypedDict):\n",
    "    # The state contains the message history: a list that we change with the add_messages function\n",
    "    # New messages are appended to the list, rather than replacing the previous ones.\n",
    "    messages: Annotated[list, add_messages]"
   ]
  },
  {
   "cell_type": "markdown",
   "metadata": {},
   "source": [
    "## Build the graph\n",
    "\n",
    "Now we can build the graph.\n",
    "In langgraph we use the `StateGraph` class to orchestrate the flow of the state."
   ]
  },
  {
   "cell_type": "code",
   "execution_count": null,
   "metadata": {},
   "outputs": [],
   "source": [
    "graph_builder = StateGraph(State)"
   ]
  },
  {
   "cell_type": "markdown",
   "metadata": {},
   "source": [
    "At the moment, this graph is empty.\n",
    "We need to add the corresponding nodes and edges to it that will make our chatbot work.\n",
    "\n",
    "In this simple case, we will have a single function that will take the user input and generate a response with the LLM.\n",
    "The node functions always take the current state as input and returns an updated one.\n",
    "\n",
    "Since we have provided the reducer function `add_messages` to our state,  that will take care of appending new messages automatically.\n",
    "Without a reducer function, the state would be overwritten."
   ]
  },
  {
   "cell_type": "code",
   "execution_count": null,
   "metadata": {},
   "outputs": [
    {
     "data": {
      "text/plain": [
       "<langgraph.graph.state.StateGraph>"
      ]
     },
     "execution_count": null,
     "metadata": {},
     "output_type": "execute_result"
    }
   ],
   "source": [
    "def chatbot(state: State) -> State:\n",
    "    return {\"messages\": [llm.invoke(state[\"messages\"])]}\n",
    "\n",
    "graph_builder.add_node(\"chatbot\", chatbot)  # Unique node name and function being called"
   ]
  },
  {
   "cell_type": "markdown",
   "metadata": {},
   "source": [
    "Now that we have the node, we need to define how it is connected to the rest of the graph.\n",
    "In this case, we will go from start to chatbot and from chatbot to end.\n",
    "The `START` and `END` nodes tell the system where to start the work, and when to exit."
   ]
  },
  {
   "cell_type": "code",
   "execution_count": null,
   "metadata": {},
   "outputs": [
    {
     "data": {
      "text/plain": [
       "<langgraph.graph.state.StateGraph>"
      ]
     },
     "execution_count": null,
     "metadata": {},
     "output_type": "execute_result"
    }
   ],
   "source": [
    "graph_builder.add_edge(START, \"chatbot\")\n",
    "graph_builder.add_edge(\"chatbot\", END)"
   ]
  },
  {
   "cell_type": "markdown",
   "metadata": {},
   "source": [
    "Finally, once we have defined all the nodes and edges, we can compile the graph builder to complete the graph."
   ]
  },
  {
   "cell_type": "code",
   "execution_count": null,
   "metadata": {},
   "outputs": [
    {
     "data": {
      "image/png": "[encoded data removed]",
      "text/plain": [
       "<IPython.core.display.Image object>"
      ]
     },
     "metadata": {},
     "output_type": "display_data"
    }
   ],
   "source": [
    "graph = graph_builder.compile()\n",
    "\n",
    "# Visualize the graph\n",
    "from IPython.display import Image, display\n",
    "display(Image(graph.get_graph().draw_mermaid_png()))"
   ]
  },
  {
   "cell_type": "markdown",
   "metadata": {},
   "source": [
    "## Running the chatbot\n",
    "\n",
    "Compiled graphs can be invoked on a state.\n",
    "Let's see an example!"
   ]
  },
  {
   "cell_type": "code",
   "execution_count": null,
   "metadata": {},
   "outputs": [
    {
     "name": "stdout",
     "output_type": "stream",
     "text": [
      "Hi! I'm doing well, thanks for asking. How are you today?\n"
     ]
    }
   ],
   "source": [
    "user_input = \"Hello, how are you?\"\n",
    "state = graph.invoke({\"messages\": [{\"role\": \"user\", \"content\": user_input}]})  # Running the graph returns a state\n",
    "\n",
    "# The response is the last message in the list\n",
    "# The messages are of type `HumanMessage` and `AIMessage` from langchain\n",
    "chatbot_response = state[\"messages\"][-1].content\n",
    "print(chatbot_response)"
   ]
  },
  {
   "cell_type": "markdown",
   "metadata": {},
   "source": [
    "Great! Now let's build a chat loop"
   ]
  },
  {
   "cell_type": "code",
   "execution_count": null,
   "metadata": {},
   "outputs": [
    {
     "name": "stdout",
     "output_type": "stream",
     "text": [
      "User: Hi, what can you tell me about red pandas?\n",
      "Assistant: Red pandas (Ailurus fulgens) are small, tree-dwelling mammals native to the eastern Himalayas and southwestern China. Here are some key facts about red pandas:\n",
      "\n",
      "1. Physical characteristics:\n",
      "- About the size of a large house cat\n",
      "- Reddish-brown fur\n",
      "- White facial markings\n",
      "- Long, bushy tail\n",
      "- Sharp, retractable claws\n",
      "\n",
      "2. Diet:\n",
      "- Primarily bamboo (about 95% of their diet)\n",
      "- Also eat fruits, insects, and small mammals\n",
      "\n",
      "3. Habitat:\n",
      "- Temperate forests\n",
      "- High-altitude areas (2,200-4,800 meters)\n",
      "- Areas with bamboo understory\n",
      "\n",
      "4. Conservation status:\n",
      "- Endangered species\n",
      "- Main threats include habitat loss and fragmentation\n",
      "- Estimated fewer than 10,000 adults remain in the wild\n",
      "\n",
      "5. Interesting facts:\n",
      "- Not closely related to giant pandas\n",
      "- More closely related to raccoons and weasels\n",
      "- Excellent climbers\n",
      "- Mostly solitary animals\n",
      "- Can lower their metabolic rate to conserve energy\n",
      "\n",
      "Red pandas are protected by law in several countries and are part of international breeding programs to help preserve the species.\n",
      "\n",
      "\n",
      "User: what are other animals belonging to the ailuriade family?\n",
      "Assistant: The Ailuridae family is a small family of carnivorans that currently has only one living species: the Red Panda (Ailurus fulgens). However, there are several extinct species that belonged to this family, including:\n",
      "\n",
      "1. Pristinailurus bristoli - An extinct red panda species from North America\n",
      "2. Parailurus anglicus - An extinct species found in Europe\n",
      "3. Parailurus hungaricus - Another extinct European species\n",
      "4. Simocyon primigenius - An extinct relative that lived during the late Miocene period\n",
      "\n",
      "While red pandas share some physical characteristics with giant pandas, giant pandas actually belong to the family Ursidae (bears) rather than Ailuridae. The similar appearance and dietary preferences between red pandas and giant pandas are a result of convergent evolution rather than close genetic relationship.\n",
      "\n",
      "The Ailuridae family is part of the superfamily Musteloidea, which includes weasels, raccoons, and skunks.\n",
      "\n",
      "\n",
      "Goodbye!\n"
     ]
    }
   ],
   "source": [
    "def stream_graph_updates(user_input: str):\n",
    "    print(\"User:\", user_input)\n",
    "    for event in graph.stream({\"messages\": [{\"role\": \"user\", \"content\": user_input}]}):\n",
    "        for value in event.values():\n",
    "            print(\"Assistant:\", value[\"messages\"][-1].content)\n",
    "    print(\"\\n\")\n",
    "\n",
    "\n",
    "while True:\n",
    "    try:\n",
    "        user_input = input(\"User: \")\n",
    "        if user_input.lower() in [\"quit\", \"exit\", \"q\"]:  # commands to terminate the conversation\n",
    "            print(\"Goodbye!\")\n",
    "            break\n",
    "        stream_graph_updates(user_input)\n",
    "    except:\n",
    "        # fallback if input() is not available\n",
    "        user_input = \"What do you know about LangGraph?\"\n",
    "        print(\"User: \" + user_input)\n",
    "        stream_graph_updates(user_input)\n",
    "        break"
   ]
  }
 ],
 "metadata": {
  "kernelspec": {
   "display_name": "python3",
   "language": "python",
   "name": "python3"
  }
 },
 "nbformat": 4,
 "nbformat_minor": 2
}
